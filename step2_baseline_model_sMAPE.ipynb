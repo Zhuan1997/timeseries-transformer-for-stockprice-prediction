{
 "cells": [
  {
   "cell_type": "code",
   "execution_count": 1,
   "id": "53f8c365-26cf-4be8-aa63-602da3885aee",
   "metadata": {},
   "outputs": [],
   "source": [
    "import tensorflow as tf"
   ]
  },
  {
   "cell_type": "code",
   "execution_count": 2,
   "id": "a6276b98-e91a-448d-a28e-c6fade8b74d8",
   "metadata": {},
   "outputs": [],
   "source": [
    "from tensorflow.keras.models import load_model\n",
    "model = load_model('best_model.h5')"
   ]
  },
  {
   "cell_type": "code",
   "execution_count": 3,
   "id": "b9407140-84d5-4e6d-87fc-514d288d5bdd",
   "metadata": {},
   "outputs": [],
   "source": [
    "import pandas as pd\n",
    "import numpy as np"
   ]
  },
  {
   "cell_type": "code",
   "execution_count": 4,
   "id": "191a6145-7f19-4ae1-9401-5fb7e7860f70",
   "metadata": {},
   "outputs": [],
   "source": [
    "data_path='testing_set_filtered.csv'\n",
    "data=pd.read_csv(data_path)"
   ]
  },
  {
   "cell_type": "code",
   "execution_count": 5,
   "id": "026a9622-ba13-4293-b9a1-a006d3a2082b",
   "metadata": {},
   "outputs": [
    {
     "data": {
      "text/html": [
       "<div>\n",
       "<style scoped>\n",
       "    .dataframe tbody tr th:only-of-type {\n",
       "        vertical-align: middle;\n",
       "    }\n",
       "\n",
       "    .dataframe tbody tr th {\n",
       "        vertical-align: top;\n",
       "    }\n",
       "\n",
       "    .dataframe thead th {\n",
       "        text-align: right;\n",
       "    }\n",
       "</style>\n",
       "<table border=\"1\" class=\"dataframe\">\n",
       "  <thead>\n",
       "    <tr style=\"text-align: right;\">\n",
       "      <th></th>\n",
       "      <th>Unnamed: 0</th>\n",
       "      <th>ExecutionTime</th>\n",
       "      <th>ID</th>\n",
       "      <th>high</th>\n",
       "      <th>low</th>\n",
       "      <th>close</th>\n",
       "      <th>volume</th>\n",
       "      <th>TimeDiff</th>\n",
       "    </tr>\n",
       "  </thead>\n",
       "  <tbody>\n",
       "    <tr>\n",
       "      <th>0</th>\n",
       "      <td>463</td>\n",
       "      <td>2024-01-11 16:15:00+01:00</td>\n",
       "      <td>Fri00Q1</td>\n",
       "      <td>99.94</td>\n",
       "      <td>89.94</td>\n",
       "      <td>93.50</td>\n",
       "      <td>6.600</td>\n",
       "      <td>NaN</td>\n",
       "    </tr>\n",
       "    <tr>\n",
       "      <th>1</th>\n",
       "      <td>464</td>\n",
       "      <td>2024-01-11 16:30:00+01:00</td>\n",
       "      <td>Fri00Q1</td>\n",
       "      <td>99.94</td>\n",
       "      <td>89.94</td>\n",
       "      <td>93.50</td>\n",
       "      <td>0.000</td>\n",
       "      <td>0 days 00:15:00</td>\n",
       "    </tr>\n",
       "    <tr>\n",
       "      <th>2</th>\n",
       "      <td>465</td>\n",
       "      <td>2024-01-11 16:45:00+01:00</td>\n",
       "      <td>Fri00Q1</td>\n",
       "      <td>94.75</td>\n",
       "      <td>94.20</td>\n",
       "      <td>94.75</td>\n",
       "      <td>1.225</td>\n",
       "      <td>0 days 00:15:00</td>\n",
       "    </tr>\n",
       "    <tr>\n",
       "      <th>3</th>\n",
       "      <td>466</td>\n",
       "      <td>2024-01-11 17:00:00+01:00</td>\n",
       "      <td>Fri00Q1</td>\n",
       "      <td>96.25</td>\n",
       "      <td>96.25</td>\n",
       "      <td>96.25</td>\n",
       "      <td>0.125</td>\n",
       "      <td>0 days 00:15:00</td>\n",
       "    </tr>\n",
       "    <tr>\n",
       "      <th>4</th>\n",
       "      <td>467</td>\n",
       "      <td>2024-01-11 17:15:00+01:00</td>\n",
       "      <td>Fri00Q1</td>\n",
       "      <td>93.50</td>\n",
       "      <td>93.50</td>\n",
       "      <td>93.50</td>\n",
       "      <td>0.025</td>\n",
       "      <td>0 days 00:15:00</td>\n",
       "    </tr>\n",
       "  </tbody>\n",
       "</table>\n",
       "</div>"
      ],
      "text/plain": [
       "   Unnamed: 0              ExecutionTime       ID   high    low  close  \\\n",
       "0         463  2024-01-11 16:15:00+01:00  Fri00Q1  99.94  89.94  93.50   \n",
       "1         464  2024-01-11 16:30:00+01:00  Fri00Q1  99.94  89.94  93.50   \n",
       "2         465  2024-01-11 16:45:00+01:00  Fri00Q1  94.75  94.20  94.75   \n",
       "3         466  2024-01-11 17:00:00+01:00  Fri00Q1  96.25  96.25  96.25   \n",
       "4         467  2024-01-11 17:15:00+01:00  Fri00Q1  93.50  93.50  93.50   \n",
       "\n",
       "   volume         TimeDiff  \n",
       "0   6.600              NaN  \n",
       "1   0.000  0 days 00:15:00  \n",
       "2   1.225  0 days 00:15:00  \n",
       "3   0.125  0 days 00:15:00  \n",
       "4   0.025  0 days 00:15:00  "
      ]
     },
     "execution_count": 5,
     "metadata": {},
     "output_type": "execute_result"
    }
   ],
   "source": [
    "data.head()"
   ]
  },
  {
   "cell_type": "code",
   "execution_count": 6,
   "id": "7e9b9edf-a041-4a47-bae7-4aaecc8be90e",
   "metadata": {},
   "outputs": [
    {
     "data": {
      "text/html": [
       "<div>\n",
       "<style scoped>\n",
       "    .dataframe tbody tr th:only-of-type {\n",
       "        vertical-align: middle;\n",
       "    }\n",
       "\n",
       "    .dataframe tbody tr th {\n",
       "        vertical-align: top;\n",
       "    }\n",
       "\n",
       "    .dataframe thead th {\n",
       "        text-align: right;\n",
       "    }\n",
       "</style>\n",
       "<table border=\"1\" class=\"dataframe\">\n",
       "  <thead>\n",
       "    <tr style=\"text-align: right;\">\n",
       "      <th></th>\n",
       "      <th>high</th>\n",
       "      <th>low</th>\n",
       "      <th>close</th>\n",
       "      <th>volume</th>\n",
       "    </tr>\n",
       "    <tr>\n",
       "      <th>ExecutionTime</th>\n",
       "      <th></th>\n",
       "      <th></th>\n",
       "      <th></th>\n",
       "      <th></th>\n",
       "    </tr>\n",
       "  </thead>\n",
       "  <tbody>\n",
       "    <tr>\n",
       "      <th>2024-01-11 16:15:00+01:00</th>\n",
       "      <td>99.94</td>\n",
       "      <td>89.94</td>\n",
       "      <td>93.50</td>\n",
       "      <td>6.600</td>\n",
       "    </tr>\n",
       "    <tr>\n",
       "      <th>2024-01-11 16:30:00+01:00</th>\n",
       "      <td>99.94</td>\n",
       "      <td>89.94</td>\n",
       "      <td>93.50</td>\n",
       "      <td>0.000</td>\n",
       "    </tr>\n",
       "    <tr>\n",
       "      <th>2024-01-11 16:45:00+01:00</th>\n",
       "      <td>94.75</td>\n",
       "      <td>94.20</td>\n",
       "      <td>94.75</td>\n",
       "      <td>1.225</td>\n",
       "    </tr>\n",
       "    <tr>\n",
       "      <th>2024-01-11 17:00:00+01:00</th>\n",
       "      <td>96.25</td>\n",
       "      <td>96.25</td>\n",
       "      <td>96.25</td>\n",
       "      <td>0.125</td>\n",
       "    </tr>\n",
       "    <tr>\n",
       "      <th>2024-01-11 17:15:00+01:00</th>\n",
       "      <td>93.50</td>\n",
       "      <td>93.50</td>\n",
       "      <td>93.50</td>\n",
       "      <td>0.025</td>\n",
       "    </tr>\n",
       "  </tbody>\n",
       "</table>\n",
       "</div>"
      ],
      "text/plain": [
       "                            high    low  close  volume\n",
       "ExecutionTime                                         \n",
       "2024-01-11 16:15:00+01:00  99.94  89.94  93.50   6.600\n",
       "2024-01-11 16:30:00+01:00  99.94  89.94  93.50   0.000\n",
       "2024-01-11 16:45:00+01:00  94.75  94.20  94.75   1.225\n",
       "2024-01-11 17:00:00+01:00  96.25  96.25  96.25   0.125\n",
       "2024-01-11 17:15:00+01:00  93.50  93.50  93.50   0.025"
      ]
     },
     "execution_count": 6,
     "metadata": {},
     "output_type": "execute_result"
    }
   ],
   "source": [
    "# Drop unnecessary columns\n",
    "data =data [['ExecutionTime','high','low','close','volume']] \n",
    "data.set_index('ExecutionTime',drop=True,inplace=True) \n",
    "data.head()"
   ]
  },
  {
   "cell_type": "code",
   "execution_count": 7,
   "id": "2c49fd8f-9d7d-4a5f-8e5c-32a8ee798bba",
   "metadata": {},
   "outputs": [],
   "source": [
    "from sklearn.preprocessing import MinMaxScaler\n",
    "scaler = MinMaxScaler()\n",
    "data[data.columns] = scaler.fit_transform(data)"
   ]
  },
  {
   "cell_type": "code",
   "execution_count": 8,
   "id": "2a6dfc3c-4b45-44eb-ad4c-5120d521f506",
   "metadata": {},
   "outputs": [
    {
     "data": {
      "text/plain": [
       "(1713779, 4)"
      ]
     },
     "execution_count": 8,
     "metadata": {},
     "output_type": "execute_result"
    }
   ],
   "source": [
    "data.shape"
   ]
  },
  {
   "cell_type": "code",
   "execution_count": 9,
   "id": "45cd2ba2-ab11-4170-a70b-c93c631992ac",
   "metadata": {},
   "outputs": [],
   "source": [
    "context_length = 30  # The number of past steps to consider\n",
    "prediction_length = 10  # Number of future steps to predict\n",
    "# Create a sliding window over the time series data to extract past values\n",
    "sequence_length = context_length# Total past sequence length\n",
    "# Split the data into sliding windows\n",
    "past_values = []\n",
    "future_values = []\n",
    "# Sliding window with a step size of sequence_length\n",
    "for i in range(0, len(data) - sequence_length - prediction_length, sequence_length+prediction_length):\n",
    "    past_window = data[i : i + sequence_length]  # Past values for input\n",
    "    future_window = data[i + sequence_length : i + sequence_length + prediction_length]  # Future values\n",
    "    \n",
    "    past_values.append(past_window)\n",
    "    future_values.append(future_window)"
   ]
  },
  {
   "cell_type": "code",
   "execution_count": 10,
   "id": "73dde14f-9907-4f44-a926-d8d8d06497a1",
   "metadata": {},
   "outputs": [],
   "source": [
    "past_values=np.array(past_values)\n",
    "future_values=np.array(future_values)"
   ]
  },
  {
   "cell_type": "code",
   "execution_count": 11,
   "id": "0e8b3a01-2df6-4079-b3b8-4db01930544a",
   "metadata": {},
   "outputs": [
    {
     "data": {
      "text/plain": [
       "((42844, 30, 4), (42844, 10, 4))"
      ]
     },
     "execution_count": 11,
     "metadata": {},
     "output_type": "execute_result"
    }
   ],
   "source": [
    "past_values.shape, future_values.shape"
   ]
  },
  {
   "cell_type": "code",
   "execution_count": 12,
   "id": "c124ce90-400e-4c1c-968a-4605d0e12604",
   "metadata": {},
   "outputs": [],
   "source": [
    "future_values_prediction = model.predict(past_values)"
   ]
  },
  {
   "cell_type": "code",
   "execution_count": 13,
   "id": "8fe0c64b-ff35-46d9-b5f5-36806841954f",
   "metadata": {},
   "outputs": [
    {
     "data": {
      "text/plain": [
       "(42844, 10, 4)"
      ]
     },
     "execution_count": 13,
     "metadata": {},
     "output_type": "execute_result"
    }
   ],
   "source": [
    "future_values_prediction.shape"
   ]
  },
  {
   "cell_type": "code",
   "execution_count": 14,
   "id": "171de8a2-c155-468c-b1ed-24213d3fc581",
   "metadata": {},
   "outputs": [],
   "source": [
    "def inverse_transform_3d(scaled_data, scaler):\n",
    "    # Get the shape of the scaled data\n",
    "    n_samples, n_timesteps, n_features = scaled_data.shape\n",
    "\n",
    "    # Reshape the data to 2D (combine samples and timesteps into one dimension)\n",
    "    scaled_data_2d = scaled_data.reshape(-1, n_features)  # Shape will be (285620, 4) for example\n",
    "\n",
    "    # Inverse transform the 2D data\n",
    "    inverse_transformed_2d = scaler.inverse_transform(scaled_data_2d)\n",
    "\n",
    "    # Reshape the inverse transformed data back to 3D\n",
    "    inverse_transformed_3d = inverse_transformed_2d.reshape(n_samples, n_timesteps, n_features)\n",
    "\n",
    "    return inverse_transformed_3d\n"
   ]
  },
  {
   "cell_type": "code",
   "execution_count": 15,
   "id": "48d9e74b-9a95-464a-870d-a355929ecdd9",
   "metadata": {},
   "outputs": [],
   "source": [
    "predicted_value = inverse_transform_3d(future_values_prediction,scaler)\n",
    "true_value = inverse_transform_3d(future_values,scaler)"
   ]
  },
  {
   "cell_type": "code",
   "execution_count": 16,
   "id": "22cf7b5d-77a2-4548-9293-99973a4aa9db",
   "metadata": {},
   "outputs": [],
   "source": [
    "def smape(y_true, y_pred):\n",
    "    # Avoid division by zero by adding a small constant (epsilon) to the denominator\n",
    "    epsilon = 1e-4\n",
    "    numerator = np.abs(y_true - y_pred)\n",
    "    denominator = (np.abs(y_true) + np.abs(y_pred)) / 2 + epsilon\n",
    "    smape_value = 100 * np.mean(numerator / denominator, axis=1)  # Average across time steps\n",
    "    return smape_value\n",
    "\n",
    "# Assuming y_true and y_pred have shape (28562, 10, 4)\n",
    "# Example: y_true = np.random.rand(28562, 10, 4), y_pred = np.random.rand(28562, 10, 4)\n",
    "y_true=true_value\n",
    "y_pred=predicted_value\n",
    "# Calculate sMAPE for each feature (axis 2)\n",
    "feature_wise_smape = []\n",
    "for feature in range(y_true.shape[2]):\n",
    "    smape_feature = smape(y_true[:, :, feature], y_pred[:, :, feature])\n",
    "    feature_wise_smape.append(np.mean(smape_feature))  # Average across samples\n",
    "\n",
    "# Convert to numpy array for easier handling if needed\n",
    "feature_wise_smape = np.array(feature_wise_smape)"
   ]
  },
  {
   "cell_type": "code",
   "execution_count": 17,
   "id": "0efc7d3b-e414-49e6-a538-e9de798b772e",
   "metadata": {},
   "outputs": [
    {
     "data": {
      "text/plain": [
       "array([174.59381289, 199.69604749, 163.8433481 , 188.6728199 ])"
      ]
     },
     "execution_count": 17,
     "metadata": {},
     "output_type": "execute_result"
    }
   ],
   "source": [
    "feature_wise_smape"
   ]
  }
 ],
 "metadata": {
  "kernelspec": {
   "display_name": "Python 3 (ipykernel)",
   "language": "python",
   "name": "python3"
  },
  "language_info": {
   "codemirror_mode": {
    "name": "ipython",
    "version": 3
   },
   "file_extension": ".py",
   "mimetype": "text/x-python",
   "name": "python",
   "nbconvert_exporter": "python",
   "pygments_lexer": "ipython3",
   "version": "3.9.18"
  }
 },
 "nbformat": 4,
 "nbformat_minor": 5
}
