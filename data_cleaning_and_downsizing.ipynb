{
 "cells": [
  {
   "cell_type": "code",
   "execution_count": 1,
   "id": "7c83f6ac-ecac-4a1a-ab4c-db363dbc09ca",
   "metadata": {},
   "outputs": [],
   "source": [
    "import pandas as pd"
   ]
  },
  {
   "cell_type": "code",
   "execution_count": 2,
   "id": "98ce47d7-8dae-4390-9bc9-710f9bca78f0",
   "metadata": {},
   "outputs": [
    {
     "data": {
      "text/html": [
       "<div>\n",
       "<style scoped>\n",
       "    .dataframe tbody tr th:only-of-type {\n",
       "        vertical-align: middle;\n",
       "    }\n",
       "\n",
       "    .dataframe tbody tr th {\n",
       "        vertical-align: top;\n",
       "    }\n",
       "\n",
       "    .dataframe thead th {\n",
       "        text-align: right;\n",
       "    }\n",
       "</style>\n",
       "<table border=\"1\" class=\"dataframe\">\n",
       "  <thead>\n",
       "    <tr style=\"text-align: right;\">\n",
       "      <th></th>\n",
       "      <th>ExecutionTime</th>\n",
       "      <th>ID</th>\n",
       "      <th>high</th>\n",
       "      <th>low</th>\n",
       "      <th>close</th>\n",
       "      <th>volume</th>\n",
       "    </tr>\n",
       "  </thead>\n",
       "  <tbody>\n",
       "    <tr>\n",
       "      <th>0</th>\n",
       "      <td>2021-01-06 21:45:00+01:00</td>\n",
       "      <td>Fri00Q1</td>\n",
       "      <td>0.0</td>\n",
       "      <td>0.00</td>\n",
       "      <td>0.00</td>\n",
       "      <td>0.000</td>\n",
       "    </tr>\n",
       "    <tr>\n",
       "      <th>1</th>\n",
       "      <td>2021-01-06 22:00:00+01:00</td>\n",
       "      <td>Fri00Q1</td>\n",
       "      <td>0.0</td>\n",
       "      <td>0.00</td>\n",
       "      <td>0.00</td>\n",
       "      <td>0.000</td>\n",
       "    </tr>\n",
       "    <tr>\n",
       "      <th>2</th>\n",
       "      <td>2021-01-06 22:15:00+01:00</td>\n",
       "      <td>Fri00Q1</td>\n",
       "      <td>0.0</td>\n",
       "      <td>0.00</td>\n",
       "      <td>0.00</td>\n",
       "      <td>0.000</td>\n",
       "    </tr>\n",
       "    <tr>\n",
       "      <th>3</th>\n",
       "      <td>2021-01-06 22:30:00+01:00</td>\n",
       "      <td>Fri00Q1</td>\n",
       "      <td>0.0</td>\n",
       "      <td>0.00</td>\n",
       "      <td>0.00</td>\n",
       "      <td>0.000</td>\n",
       "    </tr>\n",
       "    <tr>\n",
       "      <th>4</th>\n",
       "      <td>2021-01-06 22:45:00+01:00</td>\n",
       "      <td>Fri00Q1</td>\n",
       "      <td>0.0</td>\n",
       "      <td>0.00</td>\n",
       "      <td>0.00</td>\n",
       "      <td>0.000</td>\n",
       "    </tr>\n",
       "    <tr>\n",
       "      <th>...</th>\n",
       "      <td>...</td>\n",
       "      <td>...</td>\n",
       "      <td>...</td>\n",
       "      <td>...</td>\n",
       "      <td>...</td>\n",
       "      <td>...</td>\n",
       "    </tr>\n",
       "    <tr>\n",
       "      <th>95</th>\n",
       "      <td>2021-01-07 21:30:00+01:00</td>\n",
       "      <td>Fri00Q1</td>\n",
       "      <td>63.5</td>\n",
       "      <td>62.60</td>\n",
       "      <td>63.24</td>\n",
       "      <td>2.425</td>\n",
       "    </tr>\n",
       "    <tr>\n",
       "      <th>96</th>\n",
       "      <td>2021-01-07 21:45:00+01:00</td>\n",
       "      <td>Fri00Q1</td>\n",
       "      <td>64.5</td>\n",
       "      <td>62.14</td>\n",
       "      <td>62.14</td>\n",
       "      <td>9.200</td>\n",
       "    </tr>\n",
       "    <tr>\n",
       "      <th>97</th>\n",
       "      <td>2021-01-07 22:00:00+01:00</td>\n",
       "      <td>Fri00Q1</td>\n",
       "      <td>63.5</td>\n",
       "      <td>62.06</td>\n",
       "      <td>63.50</td>\n",
       "      <td>2.975</td>\n",
       "    </tr>\n",
       "    <tr>\n",
       "      <th>98</th>\n",
       "      <td>2021-01-07 22:15:00+01:00</td>\n",
       "      <td>Fri00Q1</td>\n",
       "      <td>64.2</td>\n",
       "      <td>62.42</td>\n",
       "      <td>62.42</td>\n",
       "      <td>19.450</td>\n",
       "    </tr>\n",
       "    <tr>\n",
       "      <th>99</th>\n",
       "      <td>2021-01-07 22:30:00+01:00</td>\n",
       "      <td>Fri00Q1</td>\n",
       "      <td>63.8</td>\n",
       "      <td>59.70</td>\n",
       "      <td>63.80</td>\n",
       "      <td>15.000</td>\n",
       "    </tr>\n",
       "  </tbody>\n",
       "</table>\n",
       "<p>100 rows × 6 columns</p>\n",
       "</div>"
      ],
      "text/plain": [
       "                ExecutionTime       ID  high    low  close  volume\n",
       "0   2021-01-06 21:45:00+01:00  Fri00Q1   0.0   0.00   0.00   0.000\n",
       "1   2021-01-06 22:00:00+01:00  Fri00Q1   0.0   0.00   0.00   0.000\n",
       "2   2021-01-06 22:15:00+01:00  Fri00Q1   0.0   0.00   0.00   0.000\n",
       "3   2021-01-06 22:30:00+01:00  Fri00Q1   0.0   0.00   0.00   0.000\n",
       "4   2021-01-06 22:45:00+01:00  Fri00Q1   0.0   0.00   0.00   0.000\n",
       "..                        ...      ...   ...    ...    ...     ...\n",
       "95  2021-01-07 21:30:00+01:00  Fri00Q1  63.5  62.60  63.24   2.425\n",
       "96  2021-01-07 21:45:00+01:00  Fri00Q1  64.5  62.14  62.14   9.200\n",
       "97  2021-01-07 22:00:00+01:00  Fri00Q1  63.5  62.06  63.50   2.975\n",
       "98  2021-01-07 22:15:00+01:00  Fri00Q1  64.2  62.42  62.42  19.450\n",
       "99  2021-01-07 22:30:00+01:00  Fri00Q1  63.8  59.70  63.80  15.000\n",
       "\n",
       "[100 rows x 6 columns]"
      ]
     },
     "execution_count": 2,
     "metadata": {},
     "output_type": "execute_result"
    }
   ],
   "source": [
    "data_path='TRAIN_Reco_2021_2022_2023.csv'\n",
    "df=pd.read_csv(data_path)\n",
    "df.head(100)"
   ]
  },
  {
   "cell_type": "code",
   "execution_count": 3,
   "id": "5d98108f-859e-4768-8b7f-0d533a8f0ce2",
   "metadata": {},
   "outputs": [
    {
     "data": {
      "text/plain": [
       "(69805344, 6)"
      ]
     },
     "execution_count": 3,
     "metadata": {},
     "output_type": "execute_result"
    }
   ],
   "source": [
    "df.shape"
   ]
  },
  {
   "cell_type": "code",
   "execution_count": 4,
   "id": "61324bfb-d27c-44c3-84d9-262dd70c15ef",
   "metadata": {},
   "outputs": [
    {
     "name": "stderr",
     "output_type": "stream",
     "text": [
      "C:\\Users\\wuzhu\\AppData\\Local\\Temp\\ipykernel_14164\\4061648307.py:10: FutureWarning: In a future version of pandas, parsing datetimes with mixed time zones will raise an error unless `utc=True`. Please specify `utc=True` to opt in to the new behaviour and silence this warning. To create a `Series` with mixed offsets and `object` dtype, please use `apply` and `datetime.datetime.strptime`\n",
      "  filtered_data_sample['ExecutionTime'] = pd.to_datetime(filtered_data_sample['ExecutionTime'])\n",
      "C:\\Users\\wuzhu\\AppData\\Local\\Temp\\ipykernel_14164\\4061648307.py:10: SettingWithCopyWarning: \n",
      "A value is trying to be set on a copy of a slice from a DataFrame.\n",
      "Try using .loc[row_indexer,col_indexer] = value instead\n",
      "\n",
      "See the caveats in the documentation: https://pandas.pydata.org/pandas-docs/stable/user_guide/indexing.html#returning-a-view-versus-a-copy\n",
      "  filtered_data_sample['ExecutionTime'] = pd.to_datetime(filtered_data_sample['ExecutionTime'])\n",
      "C:\\Users\\wuzhu\\AppData\\Local\\Temp\\ipykernel_14164\\4061648307.py:13: SettingWithCopyWarning: \n",
      "A value is trying to be set on a copy of a slice from a DataFrame.\n",
      "Try using .loc[row_indexer,col_indexer] = value instead\n",
      "\n",
      "See the caveats in the documentation: https://pandas.pydata.org/pandas-docs/stable/user_guide/indexing.html#returning-a-view-versus-a-copy\n",
      "  filtered_data_sample['TimeDiff'] = filtered_data_sample['ExecutionTime'].diff()\n"
     ]
    },
    {
     "data": {
      "text/plain": [
       "(                ExecutionTime        TimeDiff\n",
       " 90  2021-01-07 20:15:00+01:00             NaT\n",
       " 91  2021-01-07 20:30:00+01:00 0 days 00:15:00\n",
       " 92  2021-01-07 20:45:00+01:00 0 days 00:15:00\n",
       " 93  2021-01-07 21:00:00+01:00 0 days 00:15:00\n",
       " 94  2021-01-07 21:15:00+01:00 0 days 00:15:00,\n",
       "                       ExecutionTime        TimeDiff\n",
       " 69804958  2023-12-20 22:30:00+01:00 0 days 00:15:00\n",
       " 69804959  2023-12-20 22:45:00+01:00 0 days 00:15:00\n",
       " 69804960  2023-12-20 23:00:00+01:00 0 days 00:15:00\n",
       " 69804961  2023-12-20 23:15:00+01:00 0 days 00:15:00\n",
       " 69804962  2023-12-20 23:30:00+01:00 0 days 00:15:00)"
      ]
     },
     "execution_count": 4,
     "metadata": {},
     "output_type": "execute_result"
    }
   ],
   "source": [
    "stock_data=df\n",
    "filtered_data_sample = stock_data[\n",
    "    ~((stock_data['high'] == 0) & \n",
    "      (stock_data['low'] == 0) & \n",
    "      (stock_data['close'] == 0) & \n",
    "      (stock_data['volume'] == 0))\n",
    "]\n",
    "\n",
    "# Convert ExecutionTime to datetime to check time intervals\n",
    "filtered_data_sample['ExecutionTime'] = pd.to_datetime(filtered_data_sample['ExecutionTime'])\n",
    "\n",
    "# Calculate time differences between consecutive rows\n",
    "filtered_data_sample['TimeDiff'] = filtered_data_sample['ExecutionTime'].diff()\n",
    "\n",
    "# Show the first few rows of the filtered data and check time intervals\n",
    "filtered_data_sample[['ExecutionTime', 'TimeDiff']].head(), filtered_data_sample[['ExecutionTime', 'TimeDiff']].tail()"
   ]
  },
  {
   "cell_type": "code",
   "execution_count": 5,
   "id": "172066ed-15b9-41b7-8cb5-f7e7d8eeea88",
   "metadata": {},
   "outputs": [
    {
     "data": {
      "text/plain": [
       "(8152372, 7)"
      ]
     },
     "execution_count": 5,
     "metadata": {},
     "output_type": "execute_result"
    }
   ],
   "source": [
    "filtered_data_sample.shape"
   ]
  },
  {
   "cell_type": "markdown",
   "id": "9db717c9-86be-49a5-865b-88d153839abd",
   "metadata": {},
   "source": [
    "After removing the rows with zero values, the time intervals remain consistent at 15-minute intervals between consecutive rows, which aligns with the original time granularity of the dataset.\n",
    "This suggests that deleting the zero rows does not disrupt the regularity of the time series, and time series analysis should not be affected by this filtering in terms of time intervals."
   ]
  },
  {
   "cell_type": "code",
   "execution_count": 7,
   "id": "b911120d-25a1-47b2-b54e-2c7a74065b5c",
   "metadata": {},
   "outputs": [
    {
     "name": "stderr",
     "output_type": "stream",
     "text": [
      "C:\\Users\\wuzhu\\AppData\\Local\\Temp\\ipykernel_14164\\1121450289.py:2: SettingWithCopyWarning: \n",
      "A value is trying to be set on a copy of a slice from a DataFrame.\n",
      "Try using .loc[row_indexer,col_indexer] = value instead\n",
      "\n",
      "See the caveats in the documentation: https://pandas.pydata.org/pandas-docs/stable/user_guide/indexing.html#returning-a-view-versus-a-copy\n",
      "  filtered_data_sample[['high', 'low', 'close', 'volume']] = filtered_data_sample[['high', 'low', 'close', 'volume']].astype('float16')\n"
     ]
    }
   ],
   "source": [
    "# Convert the float64 columns ('high', 'low', 'close', 'volume') to float16 to save memory\n",
    "filtered_data_sample[['high', 'low', 'close', 'volume']] = filtered_data_sample[['high', 'low', 'close', 'volume']].astype('float16')"
   ]
  },
  {
   "cell_type": "code",
   "execution_count": 8,
   "id": "1a775e9e-3b05-405a-bbb1-7af78b0a2e55",
   "metadata": {},
   "outputs": [
    {
     "data": {
      "text/html": [
       "<div>\n",
       "<style scoped>\n",
       "    .dataframe tbody tr th:only-of-type {\n",
       "        vertical-align: middle;\n",
       "    }\n",
       "\n",
       "    .dataframe tbody tr th {\n",
       "        vertical-align: top;\n",
       "    }\n",
       "\n",
       "    .dataframe thead th {\n",
       "        text-align: right;\n",
       "    }\n",
       "</style>\n",
       "<table border=\"1\" class=\"dataframe\">\n",
       "  <thead>\n",
       "    <tr style=\"text-align: right;\">\n",
       "      <th></th>\n",
       "      <th>ExecutionTime</th>\n",
       "      <th>ID</th>\n",
       "      <th>high</th>\n",
       "      <th>low</th>\n",
       "      <th>close</th>\n",
       "      <th>volume</th>\n",
       "      <th>TimeDiff</th>\n",
       "    </tr>\n",
       "  </thead>\n",
       "  <tbody>\n",
       "    <tr>\n",
       "      <th>90</th>\n",
       "      <td>2021-01-07 20:15:00+01:00</td>\n",
       "      <td>Fri00Q1</td>\n",
       "      <td>57.28125</td>\n",
       "      <td>55.18750</td>\n",
       "      <td>57.28125</td>\n",
       "      <td>1.125000</td>\n",
       "      <td>NaT</td>\n",
       "    </tr>\n",
       "    <tr>\n",
       "      <th>91</th>\n",
       "      <td>2021-01-07 20:30:00+01:00</td>\n",
       "      <td>Fri00Q1</td>\n",
       "      <td>61.90625</td>\n",
       "      <td>59.68750</td>\n",
       "      <td>61.31250</td>\n",
       "      <td>5.148438</td>\n",
       "      <td>0 days 00:15:00</td>\n",
       "    </tr>\n",
       "    <tr>\n",
       "      <th>92</th>\n",
       "      <td>2021-01-07 20:45:00+01:00</td>\n",
       "      <td>Fri00Q1</td>\n",
       "      <td>61.90625</td>\n",
       "      <td>59.68750</td>\n",
       "      <td>61.31250</td>\n",
       "      <td>0.000000</td>\n",
       "      <td>0 days 00:15:00</td>\n",
       "    </tr>\n",
       "    <tr>\n",
       "      <th>93</th>\n",
       "      <td>2021-01-07 21:00:00+01:00</td>\n",
       "      <td>Fri00Q1</td>\n",
       "      <td>59.93750</td>\n",
       "      <td>56.09375</td>\n",
       "      <td>56.09375</td>\n",
       "      <td>0.199951</td>\n",
       "      <td>0 days 00:15:00</td>\n",
       "    </tr>\n",
       "    <tr>\n",
       "      <th>94</th>\n",
       "      <td>2021-01-07 21:15:00+01:00</td>\n",
       "      <td>Fri00Q1</td>\n",
       "      <td>63.75000</td>\n",
       "      <td>61.00000</td>\n",
       "      <td>63.46875</td>\n",
       "      <td>2.525391</td>\n",
       "      <td>0 days 00:15:00</td>\n",
       "    </tr>\n",
       "    <tr>\n",
       "      <th>95</th>\n",
       "      <td>2021-01-07 21:30:00+01:00</td>\n",
       "      <td>Fri00Q1</td>\n",
       "      <td>63.50000</td>\n",
       "      <td>62.59375</td>\n",
       "      <td>63.25000</td>\n",
       "      <td>2.425781</td>\n",
       "      <td>0 days 00:15:00</td>\n",
       "    </tr>\n",
       "    <tr>\n",
       "      <th>96</th>\n",
       "      <td>2021-01-07 21:45:00+01:00</td>\n",
       "      <td>Fri00Q1</td>\n",
       "      <td>64.50000</td>\n",
       "      <td>62.12500</td>\n",
       "      <td>62.12500</td>\n",
       "      <td>9.203125</td>\n",
       "      <td>0 days 00:15:00</td>\n",
       "    </tr>\n",
       "    <tr>\n",
       "      <th>97</th>\n",
       "      <td>2021-01-07 22:00:00+01:00</td>\n",
       "      <td>Fri00Q1</td>\n",
       "      <td>63.50000</td>\n",
       "      <td>62.06250</td>\n",
       "      <td>63.50000</td>\n",
       "      <td>2.974609</td>\n",
       "      <td>0 days 00:15:00</td>\n",
       "    </tr>\n",
       "    <tr>\n",
       "      <th>98</th>\n",
       "      <td>2021-01-07 22:15:00+01:00</td>\n",
       "      <td>Fri00Q1</td>\n",
       "      <td>64.18750</td>\n",
       "      <td>62.40625</td>\n",
       "      <td>62.40625</td>\n",
       "      <td>19.453125</td>\n",
       "      <td>0 days 00:15:00</td>\n",
       "    </tr>\n",
       "    <tr>\n",
       "      <th>99</th>\n",
       "      <td>2021-01-07 22:30:00+01:00</td>\n",
       "      <td>Fri00Q1</td>\n",
       "      <td>63.81250</td>\n",
       "      <td>59.68750</td>\n",
       "      <td>63.81250</td>\n",
       "      <td>15.000000</td>\n",
       "      <td>0 days 00:15:00</td>\n",
       "    </tr>\n",
       "  </tbody>\n",
       "</table>\n",
       "</div>"
      ],
      "text/plain": [
       "                ExecutionTime       ID      high       low     close  \\\n",
       "90  2021-01-07 20:15:00+01:00  Fri00Q1  57.28125  55.18750  57.28125   \n",
       "91  2021-01-07 20:30:00+01:00  Fri00Q1  61.90625  59.68750  61.31250   \n",
       "92  2021-01-07 20:45:00+01:00  Fri00Q1  61.90625  59.68750  61.31250   \n",
       "93  2021-01-07 21:00:00+01:00  Fri00Q1  59.93750  56.09375  56.09375   \n",
       "94  2021-01-07 21:15:00+01:00  Fri00Q1  63.75000  61.00000  63.46875   \n",
       "95  2021-01-07 21:30:00+01:00  Fri00Q1  63.50000  62.59375  63.25000   \n",
       "96  2021-01-07 21:45:00+01:00  Fri00Q1  64.50000  62.12500  62.12500   \n",
       "97  2021-01-07 22:00:00+01:00  Fri00Q1  63.50000  62.06250  63.50000   \n",
       "98  2021-01-07 22:15:00+01:00  Fri00Q1  64.18750  62.40625  62.40625   \n",
       "99  2021-01-07 22:30:00+01:00  Fri00Q1  63.81250  59.68750  63.81250   \n",
       "\n",
       "       volume        TimeDiff  \n",
       "90   1.125000             NaT  \n",
       "91   5.148438 0 days 00:15:00  \n",
       "92   0.000000 0 days 00:15:00  \n",
       "93   0.199951 0 days 00:15:00  \n",
       "94   2.525391 0 days 00:15:00  \n",
       "95   2.425781 0 days 00:15:00  \n",
       "96   9.203125 0 days 00:15:00  \n",
       "97   2.974609 0 days 00:15:00  \n",
       "98  19.453125 0 days 00:15:00  \n",
       "99  15.000000 0 days 00:15:00  "
      ]
     },
     "execution_count": 8,
     "metadata": {},
     "output_type": "execute_result"
    }
   ],
   "source": [
    "filtered_data_sample.head(10)"
   ]
  },
  {
   "cell_type": "code",
   "execution_count": 9,
   "id": "e552ff80-946f-41e2-8be5-861fe8292d4a",
   "metadata": {},
   "outputs": [],
   "source": [
    "filtered_data_sample.to_csv('training_set_filtered.csv')"
   ]
  },
  {
   "cell_type": "code",
   "execution_count": 2,
   "id": "dcae3f50-27cc-4e2d-b8ff-1bf789111bbe",
   "metadata": {},
   "outputs": [],
   "source": [
    "import pandas as pd"
   ]
  },
  {
   "cell_type": "code",
   "execution_count": 5,
   "id": "5c6f1a2f-b4f4-4dc0-b181-de429885aa93",
   "metadata": {},
   "outputs": [
    {
     "data": {
      "text/html": [
       "<div>\n",
       "<style scoped>\n",
       "    .dataframe tbody tr th:only-of-type {\n",
       "        vertical-align: middle;\n",
       "    }\n",
       "\n",
       "    .dataframe tbody tr th {\n",
       "        vertical-align: top;\n",
       "    }\n",
       "\n",
       "    .dataframe thead th {\n",
       "        text-align: right;\n",
       "    }\n",
       "</style>\n",
       "<table border=\"1\" class=\"dataframe\">\n",
       "  <thead>\n",
       "    <tr style=\"text-align: right;\">\n",
       "      <th></th>\n",
       "      <th>ExecutionTime</th>\n",
       "      <th>ID</th>\n",
       "      <th>high</th>\n",
       "      <th>low</th>\n",
       "      <th>close</th>\n",
       "      <th>volume</th>\n",
       "    </tr>\n",
       "  </thead>\n",
       "  <tbody>\n",
       "    <tr>\n",
       "      <th>0</th>\n",
       "      <td>2024-01-06 20:30:00+01:00</td>\n",
       "      <td>Fri00Q1</td>\n",
       "      <td>0.0</td>\n",
       "      <td>0.0</td>\n",
       "      <td>0.0</td>\n",
       "      <td>0.0</td>\n",
       "    </tr>\n",
       "    <tr>\n",
       "      <th>1</th>\n",
       "      <td>2024-01-06 20:45:00+01:00</td>\n",
       "      <td>Fri00Q1</td>\n",
       "      <td>0.0</td>\n",
       "      <td>0.0</td>\n",
       "      <td>0.0</td>\n",
       "      <td>0.0</td>\n",
       "    </tr>\n",
       "    <tr>\n",
       "      <th>2</th>\n",
       "      <td>2024-01-06 21:00:00+01:00</td>\n",
       "      <td>Fri00Q1</td>\n",
       "      <td>0.0</td>\n",
       "      <td>0.0</td>\n",
       "      <td>0.0</td>\n",
       "      <td>0.0</td>\n",
       "    </tr>\n",
       "    <tr>\n",
       "      <th>3</th>\n",
       "      <td>2024-01-06 21:15:00+01:00</td>\n",
       "      <td>Fri00Q1</td>\n",
       "      <td>0.0</td>\n",
       "      <td>0.0</td>\n",
       "      <td>0.0</td>\n",
       "      <td>0.0</td>\n",
       "    </tr>\n",
       "    <tr>\n",
       "      <th>4</th>\n",
       "      <td>2024-01-06 21:30:00+01:00</td>\n",
       "      <td>Fri00Q1</td>\n",
       "      <td>0.0</td>\n",
       "      <td>0.0</td>\n",
       "      <td>0.0</td>\n",
       "      <td>0.0</td>\n",
       "    </tr>\n",
       "  </tbody>\n",
       "</table>\n",
       "</div>"
      ],
      "text/plain": [
       "               ExecutionTime       ID  high  low  close  volume\n",
       "0  2024-01-06 20:30:00+01:00  Fri00Q1   0.0  0.0    0.0     0.0\n",
       "1  2024-01-06 20:45:00+01:00  Fri00Q1   0.0  0.0    0.0     0.0\n",
       "2  2024-01-06 21:00:00+01:00  Fri00Q1   0.0  0.0    0.0     0.0\n",
       "3  2024-01-06 21:15:00+01:00  Fri00Q1   0.0  0.0    0.0     0.0\n",
       "4  2024-01-06 21:30:00+01:00  Fri00Q1   0.0  0.0    0.0     0.0"
      ]
     },
     "execution_count": 5,
     "metadata": {},
     "output_type": "execute_result"
    }
   ],
   "source": [
    "data_path2='TEST_Reco_2024.csv'\n",
    "df2=pd.read_csv(data_path2)\n",
    "df2.head()"
   ]
  },
  {
   "cell_type": "code",
   "execution_count": 7,
   "id": "2dccd295-685d-41a3-a507-28f20fd6e969",
   "metadata": {},
   "outputs": [
    {
     "name": "stderr",
     "output_type": "stream",
     "text": [
      "C:\\Users\\wuzhu\\AppData\\Local\\Temp\\ipykernel_25852\\1492910593.py:9: FutureWarning: In a future version of pandas, parsing datetimes with mixed time zones will raise an error unless `utc=True`. Please specify `utc=True` to opt in to the new behaviour and silence this warning. To create a `Series` with mixed offsets and `object` dtype, please use `apply` and `datetime.datetime.strptime`\n",
      "  filtered_data_test['ExecutionTime'] = pd.to_datetime(filtered_data_test['ExecutionTime'])\n",
      "C:\\Users\\wuzhu\\AppData\\Local\\Temp\\ipykernel_25852\\1492910593.py:9: SettingWithCopyWarning: \n",
      "A value is trying to be set on a copy of a slice from a DataFrame.\n",
      "Try using .loc[row_indexer,col_indexer] = value instead\n",
      "\n",
      "See the caveats in the documentation: https://pandas.pydata.org/pandas-docs/stable/user_guide/indexing.html#returning-a-view-versus-a-copy\n",
      "  filtered_data_test['ExecutionTime'] = pd.to_datetime(filtered_data_test['ExecutionTime'])\n",
      "C:\\Users\\wuzhu\\AppData\\Local\\Temp\\ipykernel_25852\\1492910593.py:12: SettingWithCopyWarning: \n",
      "A value is trying to be set on a copy of a slice from a DataFrame.\n",
      "Try using .loc[row_indexer,col_indexer] = value instead\n",
      "\n",
      "See the caveats in the documentation: https://pandas.pydata.org/pandas-docs/stable/user_guide/indexing.html#returning-a-view-versus-a-copy\n",
      "  filtered_data_test['TimeDiff'] = filtered_data_test['ExecutionTime'].diff()\n"
     ]
    },
    {
     "data": {
      "text/plain": [
       "(                 ExecutionTime        TimeDiff\n",
       " 463  2024-01-11 16:15:00+01:00             NaT\n",
       " 464  2024-01-11 16:30:00+01:00 0 days 00:15:00\n",
       " 465  2024-01-11 16:45:00+01:00 0 days 00:15:00\n",
       " 466  2024-01-11 17:00:00+01:00 0 days 00:15:00\n",
       " 467  2024-01-11 17:15:00+01:00 0 days 00:15:00,\n",
       "                       ExecutionTime        TimeDiff\n",
       " 14648251  2024-08-20 21:45:00+02:00 0 days 00:15:00\n",
       " 14648252  2024-08-20 22:00:00+02:00 0 days 00:15:00\n",
       " 14648253  2024-08-20 22:15:00+02:00 0 days 00:15:00\n",
       " 14648254  2024-08-20 22:30:00+02:00 0 days 00:15:00\n",
       " 14648255  2024-08-20 22:45:00+02:00 0 days 00:15:00)"
      ]
     },
     "execution_count": 7,
     "metadata": {},
     "output_type": "execute_result"
    }
   ],
   "source": [
    "filtered_data_test = df2[\n",
    "    ~((df2['high'] == 0) & \n",
    "      (df2['low'] == 0) & \n",
    "      (df2['close'] == 0) & \n",
    "      (df2['volume'] == 0))\n",
    "]\n",
    "\n",
    "# Convert ExecutionTime to datetime to check time intervals\n",
    "filtered_data_test['ExecutionTime'] = pd.to_datetime(filtered_data_test['ExecutionTime'])\n",
    "\n",
    "# Calculate time differences between consecutive rows\n",
    "filtered_data_test['TimeDiff'] = filtered_data_test['ExecutionTime'].diff()\n",
    "\n",
    "# Show the first few rows of the filtered data and check time intervals\n",
    "filtered_data_test[['ExecutionTime', 'TimeDiff']].head(), filtered_data_test[['ExecutionTime', 'TimeDiff']].tail()"
   ]
  },
  {
   "cell_type": "code",
   "execution_count": 8,
   "id": "65cb591c-4e03-48db-bc72-231153d759e5",
   "metadata": {},
   "outputs": [
    {
     "name": "stderr",
     "output_type": "stream",
     "text": [
      "C:\\Users\\wuzhu\\AppData\\Local\\Temp\\ipykernel_25852\\4082743785.py:2: SettingWithCopyWarning: \n",
      "A value is trying to be set on a copy of a slice from a DataFrame.\n",
      "Try using .loc[row_indexer,col_indexer] = value instead\n",
      "\n",
      "See the caveats in the documentation: https://pandas.pydata.org/pandas-docs/stable/user_guide/indexing.html#returning-a-view-versus-a-copy\n",
      "  filtered_data_test[['high', 'low', 'close', 'volume']] = filtered_data_test[['high', 'low', 'close', 'volume']].astype('float16')\n"
     ]
    }
   ],
   "source": [
    "# Convert the float64 columns ('high', 'low', 'close', 'volume') to float16 to save memory\n",
    "filtered_data_test[['high', 'low', 'close', 'volume']] = filtered_data_test[['high', 'low', 'close', 'volume']].astype('float16')"
   ]
  },
  {
   "cell_type": "code",
   "execution_count": 9,
   "id": "ae6b9abe-81c1-4bb7-a5b2-28ca3046ba72",
   "metadata": {},
   "outputs": [],
   "source": [
    "filtered_data_test.to_csv('testing_set_filtered.csv')"
   ]
  }
 ],
 "metadata": {
  "kernelspec": {
   "display_name": "Python 3 (ipykernel)",
   "language": "python",
   "name": "python3"
  },
  "language_info": {
   "codemirror_mode": {
    "name": "ipython",
    "version": 3
   },
   "file_extension": ".py",
   "mimetype": "text/x-python",
   "name": "python",
   "nbconvert_exporter": "python",
   "pygments_lexer": "ipython3",
   "version": "3.12.4"
  }
 },
 "nbformat": 4,
 "nbformat_minor": 5
}
