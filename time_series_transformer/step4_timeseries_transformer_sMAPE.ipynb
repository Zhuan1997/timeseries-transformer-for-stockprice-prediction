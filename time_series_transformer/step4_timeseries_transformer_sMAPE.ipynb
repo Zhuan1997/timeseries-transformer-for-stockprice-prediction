{
 "cells": [
  {
   "cell_type": "code",
   "execution_count": 1,
   "id": "991ac5e5-1a47-4fd4-8fc3-1f3fa0bf2171",
   "metadata": {},
   "outputs": [],
   "source": [
    "import pandas as pd\n",
    "import numpy as np\n",
    "import torch"
   ]
  },
  {
   "cell_type": "code",
   "execution_count": 2,
   "id": "14276371-136c-4452-b476-8cef8127cf5c",
   "metadata": {},
   "outputs": [],
   "source": [
    "prediction_value = torch.load('prediction_value.pt')\n",
    "true_value = torch.load('test_future_value_tensor.pt')"
   ]
  },
  {
   "cell_type": "code",
   "execution_count": 3,
   "id": "b0b8122c-a695-4b62-9f1a-fef5e83c3fc7",
   "metadata": {},
   "outputs": [
    {
     "data": {
      "text/plain": [
       "(torch.Size([38949, 10, 4]), torch.Size([38949, 10, 4]))"
      ]
     },
     "execution_count": 3,
     "metadata": {},
     "output_type": "execute_result"
    }
   ],
   "source": [
    "prediction_value.shape,true_value.shape"
   ]
  },
  {
   "cell_type": "code",
   "execution_count": 4,
   "id": "141d4078-e15a-4d56-bfd2-fcac8c231711",
   "metadata": {},
   "outputs": [],
   "source": [
    "def sMAPE_per_feature(prediction, true):\n",
    "    # Calculate the absolute differences\n",
    "    diff = torch.abs(prediction - true)\n",
    "    \n",
    "    # Calculate the sum of absolute values of the predictions and true values\n",
    "    denom = (torch.abs(prediction) + torch.abs(true)) / 2\n",
    "    \n",
    "    # Avoid division by zero by adding a small epsilon to the denominator\n",
    "    epsilon = 1e-8\n",
    "    smape = 100 * (diff / (denom + epsilon))\n",
    "    \n",
    "    # Calculate the mean sMAPE for each feature (axis 2 is input_size)\n",
    "    smape_per_feature = torch.mean(smape, dim=(0, 1))\n",
    "    \n",
    "    return smape_per_feature\n"
   ]
  },
  {
   "cell_type": "code",
   "execution_count": 5,
   "id": "ab0ba82a-309f-4a29-99f5-6c6909b420f5",
   "metadata": {},
   "outputs": [
    {
     "name": "stdout",
     "output_type": "stream",
     "text": [
      "sMAPE per feature: tensor([148.5016, 144.2690, 146.6783, 177.8588])\n"
     ]
    }
   ],
   "source": [
    "# Now calculate sMAPE on the original values\n",
    "smape_per_feature = sMAPE_per_feature(prediction_value,true_value)\n",
    "print(\"sMAPE per feature:\", smape_per_feature)"
   ]
  },
  {
   "cell_type": "code",
   "execution_count": 6,
   "id": "96b8df6d-1017-46c0-aca1-45f9b8d7a27c",
   "metadata": {},
   "outputs": [],
   "source": [
    "# compile predicting result\n",
    "ID = np.load('ID.npy', allow_pickle=True)"
   ]
  },
  {
   "cell_type": "code",
   "execution_count": 7,
   "id": "1b911881-0a31-4b70-8823-7da5679472f9",
   "metadata": {},
   "outputs": [
    {
     "data": {
      "text/plain": [
       "(38949, 10, 1)"
      ]
     },
     "execution_count": 7,
     "metadata": {},
     "output_type": "execute_result"
    }
   ],
   "source": [
    "ID.shape"
   ]
  },
  {
   "cell_type": "code",
   "execution_count": 8,
   "id": "63d09ba5-06eb-40a9-a661-0bb234df4964",
   "metadata": {},
   "outputs": [],
   "source": [
    "# Load your tensor\n",
    "time = torch.load('test_future_time_features_tensor.pt')\n",
    "\n",
    "# Round to two decimal places\n",
    "time = torch.round(time,decimals=2)"
   ]
  },
  {
   "cell_type": "code",
   "execution_count": 9,
   "id": "a71ce910-6536-4261-995f-7920cc70399b",
   "metadata": {},
   "outputs": [
    {
     "data": {
      "text/plain": [
       "torch.Size([38949, 10, 3])"
      ]
     },
     "execution_count": 9,
     "metadata": {},
     "output_type": "execute_result"
    }
   ],
   "source": [
    "time.shape"
   ]
  },
  {
   "cell_type": "code",
   "execution_count": 10,
   "id": "b279ee35-fa1e-45b5-b5cd-044ec2796aae",
   "metadata": {},
   "outputs": [
    {
     "name": "stdout",
     "output_type": "stream",
     "text": [
      "(38949, 10, 8)\n"
     ]
    }
   ],
   "source": [
    "# Convert PyTorch tensors to NumPy arrays\n",
    "time_np = time.numpy()\n",
    "time_np = np.round(time_np,2)\n",
    "prediction_value_np = prediction_value.numpy()\n",
    "prediction_value_np\t = np.round(prediction_value_np,2)\n",
    "# Concatenate the arrays along axis 2 (last axis)\n",
    "compiled_array = np.concatenate((ID, time_np, prediction_value_np), axis=2)\n",
    "\n",
    "# Check the shape of the result\n",
    "print(compiled_array.shape)\n"
   ]
  },
  {
   "cell_type": "code",
   "execution_count": 11,
   "id": "c16a7c4e-16e1-40ce-bf05-15a4e42cecfc",
   "metadata": {},
   "outputs": [],
   "source": [
    "np.save('prediction.npy', compiled_array)"
   ]
  },
  {
   "cell_type": "code",
   "execution_count": null,
   "id": "51a378e1-c7c9-4fbd-a614-8e7233bc8d9a",
   "metadata": {},
   "outputs": [],
   "source": []
  }
 ],
 "metadata": {
  "kernelspec": {
   "display_name": "Python 3 (ipykernel)",
   "language": "python",
   "name": "python3"
  },
  "language_info": {
   "codemirror_mode": {
    "name": "ipython",
    "version": 3
   },
   "file_extension": ".py",
   "mimetype": "text/x-python",
   "name": "python",
   "nbconvert_exporter": "python",
   "pygments_lexer": "ipython3",
   "version": "3.12.4"
  }
 },
 "nbformat": 4,
 "nbformat_minor": 5
}
