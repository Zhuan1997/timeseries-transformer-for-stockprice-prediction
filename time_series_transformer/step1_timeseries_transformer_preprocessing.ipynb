{
 "cells": [
  {
   "cell_type": "code",
   "execution_count": 1,
   "id": "9e0d5f68-74ed-40b4-b4e4-7d8da8750e9e",
   "metadata": {},
   "outputs": [],
   "source": [
    "import pandas as pd\n",
    "import numpy as np\n",
    "import torch"
   ]
  },
  {
   "cell_type": "code",
   "execution_count": 2,
   "id": "f6ae4acb-4393-4967-8bd4-c90e0044f485",
   "metadata": {},
   "outputs": [],
   "source": [
    "data_path='training_set_filtered.csv'\n",
    "data=pd.read_csv(data_path)"
   ]
  },
  {
   "cell_type": "code",
   "execution_count": 3,
   "id": "895fe758-73b7-4332-8b97-2256171e3d70",
   "metadata": {},
   "outputs": [
    {
     "data": {
      "text/plain": [
       "(8152372, 8)"
      ]
     },
     "execution_count": 3,
     "metadata": {},
     "output_type": "execute_result"
    }
   ],
   "source": [
    "data.shape"
   ]
  },
  {
   "cell_type": "code",
   "execution_count": 4,
   "id": "9119a1cc-87c1-4ba0-afb0-4284110f3b4c",
   "metadata": {},
   "outputs": [
    {
     "data": {
      "text/html": [
       "<div>\n",
       "<style scoped>\n",
       "    .dataframe tbody tr th:only-of-type {\n",
       "        vertical-align: middle;\n",
       "    }\n",
       "\n",
       "    .dataframe tbody tr th {\n",
       "        vertical-align: top;\n",
       "    }\n",
       "\n",
       "    .dataframe thead th {\n",
       "        text-align: right;\n",
       "    }\n",
       "</style>\n",
       "<table border=\"1\" class=\"dataframe\">\n",
       "  <thead>\n",
       "    <tr style=\"text-align: right;\">\n",
       "      <th></th>\n",
       "      <th>ExecutionTime</th>\n",
       "      <th>high</th>\n",
       "      <th>low</th>\n",
       "      <th>close</th>\n",
       "      <th>volume</th>\n",
       "    </tr>\n",
       "  </thead>\n",
       "  <tbody>\n",
       "    <tr>\n",
       "      <th>0</th>\n",
       "      <td>2021-01-07 20:15:00+01:00</td>\n",
       "      <td>57.28</td>\n",
       "      <td>55.2</td>\n",
       "      <td>57.28</td>\n",
       "      <td>1.125</td>\n",
       "    </tr>\n",
       "    <tr>\n",
       "      <th>1</th>\n",
       "      <td>2021-01-07 20:30:00+01:00</td>\n",
       "      <td>61.90</td>\n",
       "      <td>59.7</td>\n",
       "      <td>61.30</td>\n",
       "      <td>5.150</td>\n",
       "    </tr>\n",
       "    <tr>\n",
       "      <th>2</th>\n",
       "      <td>2021-01-07 20:45:00+01:00</td>\n",
       "      <td>61.90</td>\n",
       "      <td>59.7</td>\n",
       "      <td>61.30</td>\n",
       "      <td>0.000</td>\n",
       "    </tr>\n",
       "    <tr>\n",
       "      <th>3</th>\n",
       "      <td>2021-01-07 21:00:00+01:00</td>\n",
       "      <td>59.94</td>\n",
       "      <td>56.1</td>\n",
       "      <td>56.10</td>\n",
       "      <td>0.200</td>\n",
       "    </tr>\n",
       "    <tr>\n",
       "      <th>4</th>\n",
       "      <td>2021-01-07 21:15:00+01:00</td>\n",
       "      <td>63.75</td>\n",
       "      <td>61.0</td>\n",
       "      <td>63.47</td>\n",
       "      <td>2.525</td>\n",
       "    </tr>\n",
       "  </tbody>\n",
       "</table>\n",
       "</div>"
      ],
      "text/plain": [
       "               ExecutionTime   high   low  close  volume\n",
       "0  2021-01-07 20:15:00+01:00  57.28  55.2  57.28   1.125\n",
       "1  2021-01-07 20:30:00+01:00  61.90  59.7  61.30   5.150\n",
       "2  2021-01-07 20:45:00+01:00  61.90  59.7  61.30   0.000\n",
       "3  2021-01-07 21:00:00+01:00  59.94  56.1  56.10   0.200\n",
       "4  2021-01-07 21:15:00+01:00  63.75  61.0  63.47   2.525"
      ]
     },
     "execution_count": 4,
     "metadata": {},
     "output_type": "execute_result"
    }
   ],
   "source": [
    "data =data [['ExecutionTime','high','low','close','volume']] \n",
    "data.head()"
   ]
  },
  {
   "cell_type": "code",
   "execution_count": 5,
   "id": "f9fba648-6367-4e15-94c5-5f0f9155ed84",
   "metadata": {},
   "outputs": [
    {
     "data": {
      "text/html": [
       "<div>\n",
       "<style scoped>\n",
       "    .dataframe tbody tr th:only-of-type {\n",
       "        vertical-align: middle;\n",
       "    }\n",
       "\n",
       "    .dataframe tbody tr th {\n",
       "        vertical-align: top;\n",
       "    }\n",
       "\n",
       "    .dataframe thead th {\n",
       "        text-align: right;\n",
       "    }\n",
       "</style>\n",
       "<table border=\"1\" class=\"dataframe\">\n",
       "  <thead>\n",
       "    <tr style=\"text-align: right;\">\n",
       "      <th></th>\n",
       "      <th>high</th>\n",
       "      <th>low</th>\n",
       "      <th>close</th>\n",
       "      <th>volume</th>\n",
       "    </tr>\n",
       "  </thead>\n",
       "  <tbody>\n",
       "    <tr>\n",
       "      <th>0</th>\n",
       "      <td>57.28</td>\n",
       "      <td>55.2</td>\n",
       "      <td>57.28</td>\n",
       "      <td>1.125</td>\n",
       "    </tr>\n",
       "    <tr>\n",
       "      <th>1</th>\n",
       "      <td>61.90</td>\n",
       "      <td>59.7</td>\n",
       "      <td>61.30</td>\n",
       "      <td>5.150</td>\n",
       "    </tr>\n",
       "    <tr>\n",
       "      <th>2</th>\n",
       "      <td>61.90</td>\n",
       "      <td>59.7</td>\n",
       "      <td>61.30</td>\n",
       "      <td>0.000</td>\n",
       "    </tr>\n",
       "    <tr>\n",
       "      <th>3</th>\n",
       "      <td>59.94</td>\n",
       "      <td>56.1</td>\n",
       "      <td>56.10</td>\n",
       "      <td>0.200</td>\n",
       "    </tr>\n",
       "    <tr>\n",
       "      <th>4</th>\n",
       "      <td>63.75</td>\n",
       "      <td>61.0</td>\n",
       "      <td>63.47</td>\n",
       "      <td>2.525</td>\n",
       "    </tr>\n",
       "  </tbody>\n",
       "</table>\n",
       "</div>"
      ],
      "text/plain": [
       "    high   low  close  volume\n",
       "0  57.28  55.2  57.28   1.125\n",
       "1  61.90  59.7  61.30   5.150\n",
       "2  61.90  59.7  61.30   0.000\n",
       "3  59.94  56.1  56.10   0.200\n",
       "4  63.75  61.0  63.47   2.525"
      ]
     },
     "execution_count": 5,
     "metadata": {},
     "output_type": "execute_result"
    }
   ],
   "source": [
    "data_new=data[['high','low','close','volume']]\n",
    "data_new.head()"
   ]
  },
  {
   "cell_type": "code",
   "execution_count": 6,
   "id": "98d10cb0-d599-492e-8c56-ed9b6640091e",
   "metadata": {},
   "outputs": [],
   "source": [
    "data_values = data_new.to_numpy(dtype=np.float32)"
   ]
  },
  {
   "cell_type": "code",
   "execution_count": 7,
   "id": "5234497f-83d7-4cdf-8dc0-c33a3e4ae330",
   "metadata": {},
   "outputs": [
    {
     "name": "stdout",
     "output_type": "stream",
     "text": [
      "Past values tensor shape: torch.Size([185281, 34, 4])\n",
      "Future values tensor shape: torch.Size([185281, 10, 4])\n"
     ]
    }
   ],
   "source": [
    "context_length = 34  # The number of past steps to consider\n",
    "prediction_length = 10  # Number of future steps to predict\n",
    "# Create a sliding window over the time series data to extract past values\n",
    "sequence_length = context_length# Total past sequence length\n",
    "# Split the data into sliding windows\n",
    "past_values = []\n",
    "future_values = []\n",
    "# Sliding window with a step size of sequence_length\n",
    "for i in range(0, len(data_values) - sequence_length - prediction_length, sequence_length+prediction_length):\n",
    "    past_window = data_values[i : i + sequence_length]  # Past values for input\n",
    "    future_window = data_values[i + sequence_length : i + sequence_length + prediction_length]  # Future values\n",
    "    \n",
    "    past_values.append(past_window)\n",
    "    future_values.append(future_window)\n",
    "\n",
    "# Convert lists to PyTorch tensors\n",
    "past_values_tensor = torch.tensor(np.array(past_values), dtype=torch.float32)  # Shape: (num_windows, sequence_length, num_features)\n",
    "future_values_tensor = torch.tensor(np.array(future_values), dtype=torch.float32)  # Shape: (num_windows, prediction_length, num_features)\n",
    "\n",
    "# Check the shapes\n",
    "print(f\"Past values tensor shape: {past_values_tensor.shape}\")\n",
    "print(f\"Future values tensor shape: {future_values_tensor.shape}\")\n"
   ]
  },
  {
   "cell_type": "code",
   "execution_count": 8,
   "id": "eedcbda6-2e72-44dc-acee-b34b28019a36",
   "metadata": {},
   "outputs": [
    {
     "name": "stderr",
     "output_type": "stream",
     "text": [
      "C:\\Users\\wuzhu\\AppData\\Local\\Temp\\ipykernel_28216\\2844849870.py:1: FutureWarning: In a future version of pandas, parsing datetimes with mixed time zones will raise an error unless `utc=True`. Please specify `utc=True` to opt in to the new behaviour and silence this warning. To create a `Series` with mixed offsets and `object` dtype, please use `apply` and `datetime.datetime.strptime`\n",
      "  data['ExecutionTime'] = pd.to_datetime(data['ExecutionTime'])\n"
     ]
    }
   ],
   "source": [
    "data['ExecutionTime'] = pd.to_datetime(data['ExecutionTime']) "
   ]
  },
  {
   "cell_type": "code",
   "execution_count": 9,
   "id": "2518f0cc-2d57-48ca-9dec-7f210653cb8f",
   "metadata": {},
   "outputs": [],
   "source": [
    "def transform_execution_time(timestamp):\n",
    "    hour_decimal = timestamp.hour + timestamp.minute / 60.0\n",
    "    year = timestamp.year\n",
    "    month_day_decimal = timestamp.month + timestamp.day / 100.0  # Combine month and day as a decimal\n",
    "    return [hour_decimal,month_day_decimal,year]\n",
    "\n",
    "# Apply the transformation to the 'ExecutionTime' column\n",
    "time_features = data['ExecutionTime'].apply(transform_execution_time)"
   ]
  },
  {
   "cell_type": "code",
   "execution_count": 10,
   "id": "ca67027f-ce42-4bb7-b1a2-1ac6866c8c67",
   "metadata": {},
   "outputs": [
    {
     "data": {
      "text/plain": [
       "0    [20.25, 1.07, 2021.0]\n",
       "1     [20.5, 1.07, 2021.0]\n",
       "2    [20.75, 1.07, 2021.0]\n",
       "3     [21.0, 1.07, 2021.0]\n",
       "4    [21.25, 1.07, 2021.0]\n",
       "Name: ExecutionTime, dtype: object"
      ]
     },
     "execution_count": 10,
     "metadata": {},
     "output_type": "execute_result"
    }
   ],
   "source": [
    "time_features = time_features.apply(lambda x: [float(i) for i in x])\n",
    "\n",
    "# Check the result\n",
    "time_features.head()"
   ]
  },
  {
   "cell_type": "code",
   "execution_count": 11,
   "id": "5725d55a-e87d-4e87-ab7a-19adb586673e",
   "metadata": {},
   "outputs": [],
   "source": [
    "# Convert the series to a numpy array of floats\n",
    "time_features = np.array(time_features.tolist(), dtype=np.float32)"
   ]
  },
  {
   "cell_type": "code",
   "execution_count": 12,
   "id": "b8908117-7a11-4ef4-8eec-da80c18941b7",
   "metadata": {},
   "outputs": [
    {
     "name": "stdout",
     "output_type": "stream",
     "text": [
      "Past time features tensor shape: torch.Size([185281, 34, 3])\n",
      "Future time features tensor shape: torch.Size([185281, 10, 3])\n"
     ]
    }
   ],
   "source": [
    "# Lists to store past time feature windows and future time feature windows\n",
    "past_time_features = []\n",
    "future_time_features = []\n",
    "\n",
    "# Sliding window with a step size of sequence_length\n",
    "for i in range(0, len(time_features) - sequence_length - prediction_length, sequence_length + prediction_length):\n",
    "    past_window = time_features[i : i + sequence_length]  # Past time features for input\n",
    "    future_window = time_features[i + sequence_length : i + sequence_length + prediction_length]  # Future time features\n",
    "    \n",
    "    past_time_features.append(past_window)\n",
    "    future_time_features.append(future_window)\n",
    "\n",
    "# Convert lists to PyTorch tensors\n",
    "past_time_features_tensor = torch.tensor(np.array(past_time_features), dtype=torch.float32)  # Shape: (num_windows, sequence_length, num_features)\n",
    "future_time_features_tensor = torch.tensor(np.array(future_time_features), dtype=torch.float32)  # Shape: (num_windows, prediction_length, num_features)\n",
    "\n",
    "# Check the shapes\n",
    "print(f\"Past time features tensor shape: {past_time_features_tensor.shape}\")\n",
    "print(f\"Future time features tensor shape: {future_time_features_tensor.shape}\")"
   ]
  },
  {
   "cell_type": "code",
   "execution_count": 13,
   "id": "bf7189e6-a69f-4847-bfbe-3a14ffd680d2",
   "metadata": {},
   "outputs": [
    {
     "data": {
      "text/html": [
       "<div>\n",
       "<style scoped>\n",
       "    .dataframe tbody tr th:only-of-type {\n",
       "        vertical-align: middle;\n",
       "    }\n",
       "\n",
       "    .dataframe tbody tr th {\n",
       "        vertical-align: top;\n",
       "    }\n",
       "\n",
       "    .dataframe thead th {\n",
       "        text-align: right;\n",
       "    }\n",
       "</style>\n",
       "<table border=\"1\" class=\"dataframe\">\n",
       "  <thead>\n",
       "    <tr style=\"text-align: right;\">\n",
       "      <th></th>\n",
       "      <th>Unnamed: 0</th>\n",
       "      <th>ExecutionTime</th>\n",
       "      <th>ID</th>\n",
       "      <th>high</th>\n",
       "      <th>low</th>\n",
       "      <th>close</th>\n",
       "      <th>volume</th>\n",
       "      <th>TimeDiff</th>\n",
       "    </tr>\n",
       "  </thead>\n",
       "  <tbody>\n",
       "    <tr>\n",
       "      <th>0</th>\n",
       "      <td>463</td>\n",
       "      <td>2024-01-11 16:15:00+01:00</td>\n",
       "      <td>Fri00Q1</td>\n",
       "      <td>99.94</td>\n",
       "      <td>89.94</td>\n",
       "      <td>93.50</td>\n",
       "      <td>6.600</td>\n",
       "      <td>NaN</td>\n",
       "    </tr>\n",
       "    <tr>\n",
       "      <th>1</th>\n",
       "      <td>464</td>\n",
       "      <td>2024-01-11 16:30:00+01:00</td>\n",
       "      <td>Fri00Q1</td>\n",
       "      <td>99.94</td>\n",
       "      <td>89.94</td>\n",
       "      <td>93.50</td>\n",
       "      <td>0.000</td>\n",
       "      <td>0 days 00:15:00</td>\n",
       "    </tr>\n",
       "    <tr>\n",
       "      <th>2</th>\n",
       "      <td>465</td>\n",
       "      <td>2024-01-11 16:45:00+01:00</td>\n",
       "      <td>Fri00Q1</td>\n",
       "      <td>94.75</td>\n",
       "      <td>94.20</td>\n",
       "      <td>94.75</td>\n",
       "      <td>1.225</td>\n",
       "      <td>0 days 00:15:00</td>\n",
       "    </tr>\n",
       "    <tr>\n",
       "      <th>3</th>\n",
       "      <td>466</td>\n",
       "      <td>2024-01-11 17:00:00+01:00</td>\n",
       "      <td>Fri00Q1</td>\n",
       "      <td>96.25</td>\n",
       "      <td>96.25</td>\n",
       "      <td>96.25</td>\n",
       "      <td>0.125</td>\n",
       "      <td>0 days 00:15:00</td>\n",
       "    </tr>\n",
       "    <tr>\n",
       "      <th>4</th>\n",
       "      <td>467</td>\n",
       "      <td>2024-01-11 17:15:00+01:00</td>\n",
       "      <td>Fri00Q1</td>\n",
       "      <td>93.50</td>\n",
       "      <td>93.50</td>\n",
       "      <td>93.50</td>\n",
       "      <td>0.025</td>\n",
       "      <td>0 days 00:15:00</td>\n",
       "    </tr>\n",
       "  </tbody>\n",
       "</table>\n",
       "</div>"
      ],
      "text/plain": [
       "   Unnamed: 0              ExecutionTime       ID   high    low  close  \\\n",
       "0         463  2024-01-11 16:15:00+01:00  Fri00Q1  99.94  89.94  93.50   \n",
       "1         464  2024-01-11 16:30:00+01:00  Fri00Q1  99.94  89.94  93.50   \n",
       "2         465  2024-01-11 16:45:00+01:00  Fri00Q1  94.75  94.20  94.75   \n",
       "3         466  2024-01-11 17:00:00+01:00  Fri00Q1  96.25  96.25  96.25   \n",
       "4         467  2024-01-11 17:15:00+01:00  Fri00Q1  93.50  93.50  93.50   \n",
       "\n",
       "   volume         TimeDiff  \n",
       "0   6.600              NaN  \n",
       "1   0.000  0 days 00:15:00  \n",
       "2   1.225  0 days 00:15:00  \n",
       "3   0.125  0 days 00:15:00  \n",
       "4   0.025  0 days 00:15:00  "
      ]
     },
     "execution_count": 13,
     "metadata": {},
     "output_type": "execute_result"
    }
   ],
   "source": [
    "data_path='testing_set_filtered.csv'\n",
    "data2=pd.read_csv(data_path)\n",
    "data2.head()"
   ]
  },
  {
   "cell_type": "code",
   "execution_count": 14,
   "id": "3bff213e-2899-48cb-b344-d10f8130948d",
   "metadata": {},
   "outputs": [],
   "source": [
    "ID = data2[['ID']]"
   ]
  },
  {
   "cell_type": "code",
   "execution_count": 15,
   "id": "5f69336a-9222-4055-baef-141e767a48d0",
   "metadata": {},
   "outputs": [
    {
     "data": {
      "text/html": [
       "<div>\n",
       "<style scoped>\n",
       "    .dataframe tbody tr th:only-of-type {\n",
       "        vertical-align: middle;\n",
       "    }\n",
       "\n",
       "    .dataframe tbody tr th {\n",
       "        vertical-align: top;\n",
       "    }\n",
       "\n",
       "    .dataframe thead th {\n",
       "        text-align: right;\n",
       "    }\n",
       "</style>\n",
       "<table border=\"1\" class=\"dataframe\">\n",
       "  <thead>\n",
       "    <tr style=\"text-align: right;\">\n",
       "      <th></th>\n",
       "      <th>high</th>\n",
       "      <th>low</th>\n",
       "      <th>close</th>\n",
       "      <th>volume</th>\n",
       "    </tr>\n",
       "  </thead>\n",
       "  <tbody>\n",
       "    <tr>\n",
       "      <th>0</th>\n",
       "      <td>99.94</td>\n",
       "      <td>89.94</td>\n",
       "      <td>93.50</td>\n",
       "      <td>6.600</td>\n",
       "    </tr>\n",
       "    <tr>\n",
       "      <th>1</th>\n",
       "      <td>99.94</td>\n",
       "      <td>89.94</td>\n",
       "      <td>93.50</td>\n",
       "      <td>0.000</td>\n",
       "    </tr>\n",
       "    <tr>\n",
       "      <th>2</th>\n",
       "      <td>94.75</td>\n",
       "      <td>94.20</td>\n",
       "      <td>94.75</td>\n",
       "      <td>1.225</td>\n",
       "    </tr>\n",
       "    <tr>\n",
       "      <th>3</th>\n",
       "      <td>96.25</td>\n",
       "      <td>96.25</td>\n",
       "      <td>96.25</td>\n",
       "      <td>0.125</td>\n",
       "    </tr>\n",
       "    <tr>\n",
       "      <th>4</th>\n",
       "      <td>93.50</td>\n",
       "      <td>93.50</td>\n",
       "      <td>93.50</td>\n",
       "      <td>0.025</td>\n",
       "    </tr>\n",
       "  </tbody>\n",
       "</table>\n",
       "</div>"
      ],
      "text/plain": [
       "    high    low  close  volume\n",
       "0  99.94  89.94  93.50   6.600\n",
       "1  99.94  89.94  93.50   0.000\n",
       "2  94.75  94.20  94.75   1.225\n",
       "3  96.25  96.25  96.25   0.125\n",
       "4  93.50  93.50  93.50   0.025"
      ]
     },
     "execution_count": 15,
     "metadata": {},
     "output_type": "execute_result"
    }
   ],
   "source": [
    "data2_new=data2[['high','low','close','volume']]\n",
    "data2_new.head()"
   ]
  },
  {
   "cell_type": "code",
   "execution_count": 16,
   "id": "41ffb06a-2a1a-4e1b-8945-f97793c479d5",
   "metadata": {},
   "outputs": [],
   "source": [
    "# Convert DataFrame to NumPy array\n",
    "data_values = data2_new.to_numpy(dtype=np.float32)"
   ]
  },
  {
   "cell_type": "code",
   "execution_count": 17,
   "id": "09de82ff-c720-4527-a5bc-e80c97801f62",
   "metadata": {},
   "outputs": [
    {
     "name": "stdout",
     "output_type": "stream",
     "text": [
      "test past values tensor shape: torch.Size([38949, 34, 4])\n",
      "test future values tensor shape: torch.Size([38949, 10, 4])\n"
     ]
    }
   ],
   "source": [
    "context_length = 34  # The number of past steps to consider\n",
    "prediction_length = 10  # Number of future steps to predict\n",
    "# Create a sliding window over the time series data to extract past values\n",
    "sequence_length = context_length# Total past sequence length\n",
    "# Split the data into sliding windows\n",
    "past_values = []\n",
    "future_values = []\n",
    "ID_list=[]\n",
    "# Sliding window with a step size of sequence_length\n",
    "for i in range(0, len(data_values) - sequence_length - prediction_length,sequence_length + prediction_length):\n",
    "    past_window = data_values[i : i + sequence_length]  # Past values for input\n",
    "    future_window = data_values[i + sequence_length : i + sequence_length + prediction_length]  # Future values\n",
    "    ID_window = ID[i + sequence_length : i + sequence_length + prediction_length]\n",
    "    past_values.append(past_window)\n",
    "    future_values.append(future_window)\n",
    "    ID_list.append(ID_window)\n",
    "# Convert lists to PyTorch tensors\n",
    "past_values_tensor_test = torch.tensor(np.array(past_values), dtype=torch.float32)  # Shape: (num_windows, sequence_length, num_features)\n",
    "future_values_tensor_test = torch.tensor(np.array(future_values), dtype=torch.float32)  # Shape: (num_windows, prediction_length, num_features)\n",
    "ID_array = np.array(ID_list)\n",
    "# Check the shapes\n",
    "print(f\"test past values tensor shape: {past_values_tensor_test.shape}\")\n",
    "print(f\"test future values tensor shape: {future_values_tensor_test.shape}\")\n"
   ]
  },
  {
   "cell_type": "code",
   "execution_count": 18,
   "id": "6a2d7f54-3c16-4bfb-8676-cb0afe13f791",
   "metadata": {},
   "outputs": [
    {
     "name": "stderr",
     "output_type": "stream",
     "text": [
      "C:\\Users\\wuzhu\\AppData\\Local\\Temp\\ipykernel_28216\\1534058427.py:1: FutureWarning: In a future version of pandas, parsing datetimes with mixed time zones will raise an error unless `utc=True`. Please specify `utc=True` to opt in to the new behaviour and silence this warning. To create a `Series` with mixed offsets and `object` dtype, please use `apply` and `datetime.datetime.strptime`\n",
      "  data2['ExecutionTime'] = pd.to_datetime(data2['ExecutionTime'])\n"
     ]
    }
   ],
   "source": [
    "data2['ExecutionTime'] = pd.to_datetime(data2['ExecutionTime']) "
   ]
  },
  {
   "cell_type": "code",
   "execution_count": 19,
   "id": "40d99f57-9b7c-4045-9345-51eace7bf586",
   "metadata": {},
   "outputs": [],
   "source": [
    "def transform_execution_time(timestamp):\n",
    "    hour_decimal = timestamp.hour + timestamp.minute / 60.0\n",
    "    year = timestamp.year\n",
    "    month_day_decimal = timestamp.month + timestamp.day / 100.0  # Combine month and day as a decimal\n",
    "    return [hour_decimal,month_day_decimal,year]\n",
    "\n",
    "# Apply the transformation to the 'ExecutionTime' column\n",
    "time_features2 = data2['ExecutionTime'].apply(transform_execution_time)"
   ]
  },
  {
   "cell_type": "code",
   "execution_count": 20,
   "id": "61b05135-4ba5-44b5-b756-da3fc760a4a0",
   "metadata": {},
   "outputs": [
    {
     "data": {
      "text/plain": [
       "0    [16.25, 1.11, 2024.0]\n",
       "1     [16.5, 1.11, 2024.0]\n",
       "2    [16.75, 1.11, 2024.0]\n",
       "3     [17.0, 1.11, 2024.0]\n",
       "4    [17.25, 1.11, 2024.0]\n",
       "Name: ExecutionTime, dtype: object"
      ]
     },
     "execution_count": 20,
     "metadata": {},
     "output_type": "execute_result"
    }
   ],
   "source": [
    "time_features2 = time_features2.apply(lambda x: [float(i) for i in x])\n",
    "# Check the result\n",
    "time_features2.head()"
   ]
  },
  {
   "cell_type": "code",
   "execution_count": 21,
   "id": "53f90f68-c346-4ae4-ad28-a9b4bee902f5",
   "metadata": {},
   "outputs": [],
   "source": [
    "# Convert the series to a numpy array of floats\n",
    "time_features2 = np.array(time_features2.tolist(), dtype=np.float32)"
   ]
  },
  {
   "cell_type": "code",
   "execution_count": 22,
   "id": "17dfaffd-dbba-4cb2-8b6a-4594a7879413",
   "metadata": {},
   "outputs": [
    {
     "name": "stdout",
     "output_type": "stream",
     "text": [
      "test past time features tensor shape: torch.Size([38949, 34, 3])\n",
      "test future time features tensor shape: torch.Size([38949, 10, 3])\n"
     ]
    }
   ],
   "source": [
    "# Lists to store past time feature windows and future time feature windows\n",
    "past_time_features2 = []\n",
    "future_time_features2 = []\n",
    "\n",
    "# Sliding window with a step size of sequence_length\n",
    "for i in range(0, len(time_features2) - sequence_length - prediction_length, sequence_length + prediction_length):\n",
    "    past_window = time_features2[i : i + sequence_length]  # Past time features for input\n",
    "    future_window = time_features2[i + sequence_length : i + sequence_length + prediction_length]  # Future time features\n",
    "    \n",
    "    past_time_features2.append(past_window)\n",
    "    future_time_features2.append(future_window)\n",
    "\n",
    "# Convert lists to PyTorch tensors\n",
    "past_time_features_tensor_test = torch.tensor(np.array(past_time_features2), dtype=torch.float32)  \n",
    "future_time_features_tensor_test = torch.tensor(np.array(future_time_features2), dtype=torch.float32)\n",
    "\n",
    "# Check the shapes\n",
    "print(f\"test past time features tensor shape: {past_time_features_tensor_test.shape}\")\n",
    "print(f\"test future time features tensor shape: {future_time_features_tensor_test.shape}\")"
   ]
  },
  {
   "cell_type": "code",
   "execution_count": 23,
   "id": "d81178f1-7962-42dd-927b-a4974f1138f0",
   "metadata": {},
   "outputs": [],
   "source": [
    "torch.save(past_time_features_tensor, 'past_time_features_tensor.pt')\n",
    "torch.save(future_time_features_tensor, 'future_time_features_tensor.pt')\n",
    "torch.save(past_values_tensor,'past_value_tensor.pt')\n",
    "torch.save(future_values_tensor, 'future_value_tensor.pt')\n",
    "torch.save(past_time_features_tensor_test, 'test_past_time_features_tensor.pt')\n",
    "torch.save(future_time_features_tensor_test, 'test_future_time_features_tensor.pt')\n",
    "torch.save(past_values_tensor_test,'test_past_value_tensor.pt')\n",
    "torch.save(future_values_tensor_test, 'test_future_value_tensor.pt')"
   ]
  },
  {
   "cell_type": "code",
   "execution_count": 24,
   "id": "6c4f7c0f-8eb9-4c71-8005-91fa00c5d8b9",
   "metadata": {},
   "outputs": [
    {
     "data": {
      "text/plain": [
       "(38949, 10, 1)"
      ]
     },
     "execution_count": 24,
     "metadata": {},
     "output_type": "execute_result"
    }
   ],
   "source": [
    "ID_array.shape"
   ]
  },
  {
   "cell_type": "code",
   "execution_count": 25,
   "id": "7f506895-16bf-4a70-8a20-807ed3fbd47b",
   "metadata": {},
   "outputs": [],
   "source": [
    "import numpy as np\n",
    "\n",
    "np.save('ID', ID_array)"
   ]
  }
 ],
 "metadata": {
  "kernelspec": {
   "display_name": "Python 3 (ipykernel)",
   "language": "python",
   "name": "python3"
  },
  "language_info": {
   "codemirror_mode": {
    "name": "ipython",
    "version": 3
   },
   "file_extension": ".py",
   "mimetype": "text/x-python",
   "name": "python",
   "nbconvert_exporter": "python",
   "pygments_lexer": "ipython3",
   "version": "3.12.4"
  }
 },
 "nbformat": 4,
 "nbformat_minor": 5
}
