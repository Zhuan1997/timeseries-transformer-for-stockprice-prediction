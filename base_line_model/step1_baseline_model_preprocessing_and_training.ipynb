{
 "cells": [
  {
   "cell_type": "code",
   "execution_count": 1,
   "id": "ef8cc7a0-2244-493b-aeb2-9826c3624e5c",
   "metadata": {},
   "outputs": [],
   "source": [
    "import pandas as pd\n",
    "import numpy as np"
   ]
  },
  {
   "cell_type": "code",
   "execution_count": 2,
   "id": "27d6fd4a-c407-4135-b744-d92653fe413b",
   "metadata": {},
   "outputs": [],
   "source": [
    "data_path='training_set_filtered.csv'\n",
    "data=pd.read_csv(data_path)"
   ]
  },
  {
   "cell_type": "code",
   "execution_count": 3,
   "id": "5d93dece-aa86-4788-a697-de29cb25664c",
   "metadata": {},
   "outputs": [
    {
     "data": {
      "text/html": [
       "<div>\n",
       "<style scoped>\n",
       "    .dataframe tbody tr th:only-of-type {\n",
       "        vertical-align: middle;\n",
       "    }\n",
       "\n",
       "    .dataframe tbody tr th {\n",
       "        vertical-align: top;\n",
       "    }\n",
       "\n",
       "    .dataframe thead th {\n",
       "        text-align: right;\n",
       "    }\n",
       "</style>\n",
       "<table border=\"1\" class=\"dataframe\">\n",
       "  <thead>\n",
       "    <tr style=\"text-align: right;\">\n",
       "      <th></th>\n",
       "      <th>high</th>\n",
       "      <th>low</th>\n",
       "      <th>close</th>\n",
       "      <th>volume</th>\n",
       "    </tr>\n",
       "    <tr>\n",
       "      <th>ExecutionTime</th>\n",
       "      <th></th>\n",
       "      <th></th>\n",
       "      <th></th>\n",
       "      <th></th>\n",
       "    </tr>\n",
       "  </thead>\n",
       "  <tbody>\n",
       "    <tr>\n",
       "      <th>2021-01-07 20:15:00+01:00</th>\n",
       "      <td>57.28</td>\n",
       "      <td>55.2</td>\n",
       "      <td>57.28</td>\n",
       "      <td>1.125</td>\n",
       "    </tr>\n",
       "    <tr>\n",
       "      <th>2021-01-07 20:30:00+01:00</th>\n",
       "      <td>61.90</td>\n",
       "      <td>59.7</td>\n",
       "      <td>61.30</td>\n",
       "      <td>5.150</td>\n",
       "    </tr>\n",
       "    <tr>\n",
       "      <th>2021-01-07 20:45:00+01:00</th>\n",
       "      <td>61.90</td>\n",
       "      <td>59.7</td>\n",
       "      <td>61.30</td>\n",
       "      <td>0.000</td>\n",
       "    </tr>\n",
       "    <tr>\n",
       "      <th>2021-01-07 21:00:00+01:00</th>\n",
       "      <td>59.94</td>\n",
       "      <td>56.1</td>\n",
       "      <td>56.10</td>\n",
       "      <td>0.200</td>\n",
       "    </tr>\n",
       "    <tr>\n",
       "      <th>2021-01-07 21:15:00+01:00</th>\n",
       "      <td>63.75</td>\n",
       "      <td>61.0</td>\n",
       "      <td>63.47</td>\n",
       "      <td>2.525</td>\n",
       "    </tr>\n",
       "  </tbody>\n",
       "</table>\n",
       "</div>"
      ],
      "text/plain": [
       "                            high   low  close  volume\n",
       "ExecutionTime                                        \n",
       "2021-01-07 20:15:00+01:00  57.28  55.2  57.28   1.125\n",
       "2021-01-07 20:30:00+01:00  61.90  59.7  61.30   5.150\n",
       "2021-01-07 20:45:00+01:00  61.90  59.7  61.30   0.000\n",
       "2021-01-07 21:00:00+01:00  59.94  56.1  56.10   0.200\n",
       "2021-01-07 21:15:00+01:00  63.75  61.0  63.47   2.525"
      ]
     },
     "execution_count": 3,
     "metadata": {},
     "output_type": "execute_result"
    }
   ],
   "source": [
    "# Drop unnecessary columns\n",
    "data =data [['ExecutionTime','high','low','close','volume']] \n",
    "data.set_index('ExecutionTime',drop=True,inplace=True) \n",
    "data.head()"
   ]
  },
  {
   "cell_type": "code",
   "execution_count": 4,
   "id": "c2e1a759-9bac-4a68-afaa-816222c2961f",
   "metadata": {},
   "outputs": [],
   "source": [
    "from sklearn.preprocessing import MinMaxScaler\n",
    "scaler = MinMaxScaler()\n",
    "data[data.columns] = scaler.fit_transform(data )\n",
    "\n",
    "training_size = round(len(data ) * 0.80)\n",
    "\n",
    "train_data = data[:training_size]\n",
    "test_data  = data[training_size:]"
   ]
  },
  {
   "cell_type": "code",
   "execution_count": 5,
   "id": "40ec50a9-1b06-41c3-b7b3-9a32e6f25508",
   "metadata": {},
   "outputs": [
    {
     "data": {
      "text/plain": [
       "((6521898, 4), (1630474, 4))"
      ]
     },
     "execution_count": 5,
     "metadata": {},
     "output_type": "execute_result"
    }
   ],
   "source": [
    "train_data.shape, test_data.shape"
   ]
  },
  {
   "cell_type": "code",
   "execution_count": 6,
   "id": "2716f13a-3034-45c3-8015-330c4ce0bd16",
   "metadata": {},
   "outputs": [],
   "source": [
    "def create_sequence(dataset, n_steps_in=30, n_steps_out=10, gap=4):\n",
    "    sequences = []\n",
    "    labels = []\n",
    "    start_idx = 0\n",
    "    \n",
    "    for stop_idx in range(n_steps_in, len(dataset) - n_steps_out - gap + 1, n_steps_in + gap + n_steps_out):\n",
    "        # Append the input sequence (30 time steps)\n",
    "        sequences.append(dataset.iloc[start_idx:stop_idx])\n",
    "        \n",
    "        # Append the label sequence (the next 10 time steps, starting after the gap)\n",
    "        labels.append(dataset.iloc[stop_idx + gap:stop_idx + gap + n_steps_out].values)\n",
    "        \n",
    "        # Move the start_idx to the next position\n",
    "        start_idx += n_steps_in + gap + n_steps_out\n",
    "\n",
    "    return np.array(sequences), np.array(labels)"
   ]
  },
  {
   "cell_type": "code",
   "execution_count": 7,
   "id": "e0be5786-6e64-46eb-b371-50d0c75ae914",
   "metadata": {},
   "outputs": [],
   "source": [
    "# Create sequences and labels\n",
    "train_seq, train_label = create_sequence(train_data)\n",
    "test_seq, test_label = create_sequence(test_data)"
   ]
  },
  {
   "cell_type": "code",
   "execution_count": 8,
   "id": "331000bd-6c57-40b5-a6cd-690972c5fcaa",
   "metadata": {},
   "outputs": [
    {
     "data": {
      "text/plain": [
       "((148224, 30, 4), (148224, 10, 4), (37056, 30, 4), (37056, 10, 4))"
      ]
     },
     "execution_count": 8,
     "metadata": {},
     "output_type": "execute_result"
    }
   ],
   "source": [
    "# Check the shapes\n",
    "train_seq.shape, train_label.shape, test_seq.shape, test_label.shape"
   ]
  },
  {
   "cell_type": "code",
   "execution_count": 9,
   "id": "e49c91ed-83d9-421e-8f45-43a5d61708da",
   "metadata": {},
   "outputs": [],
   "source": [
    "import tensorflow as tf"
   ]
  },
  {
   "cell_type": "code",
   "execution_count": 10,
   "id": "95a70f5d-cb0d-4a7b-b864-9393a3f0fcb0",
   "metadata": {},
   "outputs": [],
   "source": [
    "from tensorflow.keras.models import Sequential\n",
    "from tensorflow.keras.layers import Dense, Dropout, LSTM, Bidirectional,Reshape"
   ]
  },
  {
   "cell_type": "code",
   "execution_count": 11,
   "id": "8f36afee-1ba0-4b78-ad61-75ed9b39e880",
   "metadata": {},
   "outputs": [
    {
     "name": "stdout",
     "output_type": "stream",
     "text": [
      "Model: \"sequential\"\n",
      "_________________________________________________________________\n",
      "Layer (type)                 Output Shape              Param #   \n",
      "=================================================================\n",
      "lstm (LSTM)                  (None, 30, 30)            4200      \n",
      "_________________________________________________________________\n",
      "dropout (Dropout)            (None, 30, 30)            0         \n",
      "_________________________________________________________________\n",
      "lstm_1 (LSTM)                (None, 30)                7320      \n",
      "_________________________________________________________________\n",
      "dropout_1 (Dropout)          (None, 30)                0         \n",
      "_________________________________________________________________\n",
      "dense (Dense)                (None, 40)                1240      \n",
      "_________________________________________________________________\n",
      "reshape (Reshape)            (None, 10, 4)             0         \n",
      "=================================================================\n",
      "Total params: 12,760\n",
      "Trainable params: 12,760\n",
      "Non-trainable params: 0\n",
      "_________________________________________________________________\n"
     ]
    }
   ],
   "source": [
    "# Define the model\n",
    "model = Sequential()\n",
    "\n",
    "# Add the first LSTM layer with 30 units, input_shape specifies the shape of each input sample\n",
    "model.add(LSTM(units=30, return_sequences=True, input_shape=(30, 4)))\n",
    "\n",
    "# Add a Dropout layer to prevent overfitting\n",
    "model.add(Dropout(0.1))\n",
    "\n",
    "# Add a second LSTM layer with 30 units\n",
    "model.add(LSTM(units=30, return_sequences=False))\n",
    "\n",
    "# Add another Dropout layer\n",
    "model.add(Dropout(0.1))\n",
    "\n",
    "# Output layer that predicts 10 future time steps, each with 4 features\n",
    "model.add(Dense(10 * 4))  # Predicts 10 time steps, each with 4 features\n",
    "model.add(Reshape((10, 4)))  # Reshapes the output to (10, 4)\n",
    "\n",
    "# Compile the model\n",
    "model.compile(optimizer='adam', loss='mean_squared_error', metrics=['mean_absolute_error'])\n",
    "\n",
    "# Model summary to visualize the structure\n",
    "model.summary()\n"
   ]
  },
  {
   "cell_type": "code",
   "execution_count": 12,
   "id": "6fb234fe-873e-42c7-8248-c49eeea57e5e",
   "metadata": {},
   "outputs": [
    {
     "name": "stdout",
     "output_type": "stream",
     "text": [
      "Epoch 1/80\n",
      "4632/4632 [==============================] - 58s 11ms/step - loss: 3.0397e-04 - mean_absolute_error: 0.0081 - val_loss: 3.2533e-05 - val_mean_absolute_error: 0.0027\n",
      "Epoch 2/80\n",
      "4632/4632 [==============================] - 49s 10ms/step - loss: 3.3934e-05 - mean_absolute_error: 0.0029 - val_loss: 3.1089e-05 - val_mean_absolute_error: 0.0022\n",
      "Epoch 3/80\n",
      "4632/4632 [==============================] - 49s 11ms/step - loss: 3.3112e-05 - mean_absolute_error: 0.0028 - val_loss: 3.0719e-05 - val_mean_absolute_error: 0.0024\n",
      "Epoch 4/80\n",
      "4632/4632 [==============================] - 49s 11ms/step - loss: 3.2462e-05 - mean_absolute_error: 0.0027 - val_loss: 3.0614e-05 - val_mean_absolute_error: 0.0025\n",
      "Epoch 5/80\n",
      "4632/4632 [==============================] - 47s 10ms/step - loss: 3.2233e-05 - mean_absolute_error: 0.0027 - val_loss: 3.0670e-05 - val_mean_absolute_error: 0.0026\n",
      "Epoch 6/80\n",
      "4632/4632 [==============================] - 44s 9ms/step - loss: 3.2008e-05 - mean_absolute_error: 0.0027 - val_loss: 3.3425e-05 - val_mean_absolute_error: 0.0033\n",
      "Epoch 7/80\n",
      "4632/4632 [==============================] - 48s 10ms/step - loss: 3.1933e-05 - mean_absolute_error: 0.0027 - val_loss: 3.0680e-05 - val_mean_absolute_error: 0.0026\n",
      "Epoch 8/80\n",
      "4632/4632 [==============================] - 50s 11ms/step - loss: 3.1602e-05 - mean_absolute_error: 0.0026 - val_loss: 3.0668e-05 - val_mean_absolute_error: 0.0024\n",
      "Epoch 9/80\n",
      "4632/4632 [==============================] - 49s 11ms/step - loss: 3.1574e-05 - mean_absolute_error: 0.0026 - val_loss: 2.9905e-05 - val_mean_absolute_error: 0.0023\n",
      "Epoch 10/80\n",
      "4632/4632 [==============================] - 49s 11ms/step - loss: 3.1419e-05 - mean_absolute_error: 0.0026 - val_loss: 3.3439e-05 - val_mean_absolute_error: 0.0032\n",
      "Epoch 11/80\n",
      "4632/4632 [==============================] - 50s 11ms/step - loss: 3.1274e-05 - mean_absolute_error: 0.0026 - val_loss: 3.0112e-05 - val_mean_absolute_error: 0.0023\n",
      "Epoch 12/80\n",
      "4632/4632 [==============================] - 49s 11ms/step - loss: 3.1138e-05 - mean_absolute_error: 0.0026 - val_loss: 2.9389e-05 - val_mean_absolute_error: 0.0023\n",
      "Epoch 13/80\n",
      "4632/4632 [==============================] - 50s 11ms/step - loss: 3.0723e-05 - mean_absolute_error: 0.0026 - val_loss: 2.8743e-05 - val_mean_absolute_error: 0.0022\n",
      "Epoch 14/80\n",
      "4632/4632 [==============================] - 48s 10ms/step - loss: 2.9400e-05 - mean_absolute_error: 0.0025 - val_loss: 2.8740e-05 - val_mean_absolute_error: 0.0023\n",
      "Epoch 15/80\n",
      "4632/4632 [==============================] - 49s 11ms/step - loss: 2.8986e-05 - mean_absolute_error: 0.0025 - val_loss: 2.7542e-05 - val_mean_absolute_error: 0.0022\n",
      "Epoch 16/80\n",
      "4632/4632 [==============================] - 49s 11ms/step - loss: 2.8698e-05 - mean_absolute_error: 0.0025 - val_loss: 2.7307e-05 - val_mean_absolute_error: 0.0020\n",
      "Epoch 17/80\n",
      "4632/4632 [==============================] - 50s 11ms/step - loss: 2.8650e-05 - mean_absolute_error: 0.0025 - val_loss: 2.8449e-05 - val_mean_absolute_error: 0.0025\n",
      "Epoch 18/80\n",
      "4632/4632 [==============================] - 50s 11ms/step - loss: 2.8489e-05 - mean_absolute_error: 0.0024 - val_loss: 2.6902e-05 - val_mean_absolute_error: 0.0021\n",
      "Epoch 19/80\n",
      "4632/4632 [==============================] - 50s 11ms/step - loss: 2.8344e-05 - mean_absolute_error: 0.0024 - val_loss: 2.7258e-05 - val_mean_absolute_error: 0.0023\n",
      "Epoch 20/80\n",
      "4632/4632 [==============================] - 49s 11ms/step - loss: 2.8269e-05 - mean_absolute_error: 0.0024 - val_loss: 2.6747e-05 - val_mean_absolute_error: 0.0021\n",
      "Epoch 21/80\n",
      "4632/4632 [==============================] - 50s 11ms/step - loss: 2.8264e-05 - mean_absolute_error: 0.0024 - val_loss: 2.6628e-05 - val_mean_absolute_error: 0.0022\n",
      "Epoch 22/80\n",
      "4632/4632 [==============================] - 50s 11ms/step - loss: 2.8186e-05 - mean_absolute_error: 0.0024 - val_loss: 2.6922e-05 - val_mean_absolute_error: 0.0021\n",
      "Epoch 23/80\n",
      "4632/4632 [==============================] - 50s 11ms/step - loss: 2.8189e-05 - mean_absolute_error: 0.0024 - val_loss: 2.6621e-05 - val_mean_absolute_error: 0.0021\n",
      "Epoch 24/80\n",
      "4632/4632 [==============================] - 51s 11ms/step - loss: 2.8151e-05 - mean_absolute_error: 0.0024 - val_loss: 2.6482e-05 - val_mean_absolute_error: 0.0021\n",
      "Epoch 25/80\n",
      "4632/4632 [==============================] - 49s 11ms/step - loss: 2.8059e-05 - mean_absolute_error: 0.0024 - val_loss: 2.7039e-05 - val_mean_absolute_error: 0.0023\n",
      "Epoch 26/80\n",
      "4632/4632 [==============================] - 47s 10ms/step - loss: 2.8219e-05 - mean_absolute_error: 0.0024 - val_loss: 2.7080e-05 - val_mean_absolute_error: 0.0021\n",
      "Epoch 27/80\n",
      "4632/4632 [==============================] - 49s 11ms/step - loss: 2.7959e-05 - mean_absolute_error: 0.0024 - val_loss: 2.6998e-05 - val_mean_absolute_error: 0.0024\n",
      "Epoch 28/80\n",
      "4632/4632 [==============================] - 49s 11ms/step - loss: 2.8606e-05 - mean_absolute_error: 0.0025 - val_loss: 2.7049e-05 - val_mean_absolute_error: 0.0021\n",
      "Epoch 29/80\n",
      "4632/4632 [==============================] - 47s 10ms/step - loss: 2.7942e-05 - mean_absolute_error: 0.0024 - val_loss: 2.6742e-05 - val_mean_absolute_error: 0.0022\n"
     ]
    }
   ],
   "source": [
    "from tensorflow.keras.callbacks import EarlyStopping, ModelCheckpoint\n",
    "\n",
    "# Define early stopping callback\n",
    "early_stopping = EarlyStopping(monitor='val_loss', patience=5, restore_best_weights=True)\n",
    "\n",
    "# Define model checkpoint callback to save the best model\n",
    "model_checkpoint = ModelCheckpoint('best_model.h5', monitor='val_loss', save_best_only=True)\n",
    "\n",
    "# Fit the model with early stopping and model checkpointing\n",
    "history = model.fit(train_seq, train_label, \n",
    "                    epochs=80, \n",
    "                    validation_data=(test_seq, test_label), \n",
    "                    verbose=1, \n",
    "                    callbacks=[early_stopping, model_checkpoint])\n"
   ]
  },
  {
   "cell_type": "code",
   "execution_count": 13,
   "id": "d2e8da7e-eb1f-4a5c-b710-11f965b3636a",
   "metadata": {},
   "outputs": [],
   "source": [
    "model.save('best_model.h5')"
   ]
  }
 ],
 "metadata": {
  "kernelspec": {
   "display_name": "Python 3 (ipykernel)",
   "language": "python",
   "name": "python3"
  },
  "language_info": {
   "codemirror_mode": {
    "name": "ipython",
    "version": 3
   },
   "file_extension": ".py",
   "mimetype": "text/x-python",
   "name": "python",
   "nbconvert_exporter": "python",
   "pygments_lexer": "ipython3",
   "version": "3.9.18"
  }
 },
 "nbformat": 4,
 "nbformat_minor": 5
}
